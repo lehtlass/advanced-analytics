{
 "cells": [
  {
   "cell_type": "code",
   "execution_count": 5,
   "metadata": {
    "id": "-g5ZIwqX2TXm"
   },
   "outputs": [],
   "source": [
    "#Other packages included on individual sets temporarily\n",
    "import pandas as pd\n",
    "import numpy as np"
   ]
  },
  {
   "cell_type": "markdown",
   "metadata": {
    "id": "ZpPIu0Dn2TXz"
   },
   "source": [
    "# 0. Importing the data"
   ]
  },
  {
   "cell_type": "code",
   "execution_count": 6,
   "metadata": {
    "id": "P9bLmztm2TX0"
   },
   "outputs": [
    {
     "name": "stdout",
     "output_type": "stream",
     "text": [
      "There are 55463 records\n",
      "\n",
      "There are 77 attributes:\n",
      "fraud                     object\n",
      "claim_amount              object\n",
      "claim_date_registered      int64\n",
      "claim_date_occured         int64\n",
      "claim_time_occured       float64\n",
      "                          ...   \n",
      "policy_num_changes         int64\n",
      "policy_num_claims          int64\n",
      "policy_premium_100       float64\n",
      "policy_coverage_1000     float64\n",
      "policy_coverage_type      object\n",
      "Length: 77, dtype: object\n",
      "\n",
      "> 5 FIRST OBSERVATIONS OF THE DATASET\n"
     ]
    },
    {
     "data": {
      "text/html": [
       "<div>\n",
       "<style scoped>\n",
       "    .dataframe tbody tr th:only-of-type {\n",
       "        vertical-align: middle;\n",
       "    }\n",
       "\n",
       "    .dataframe tbody tr th {\n",
       "        vertical-align: top;\n",
       "    }\n",
       "\n",
       "    .dataframe thead th {\n",
       "        text-align: right;\n",
       "    }\n",
       "</style>\n",
       "<table border=\"1\" class=\"dataframe\">\n",
       "  <thead>\n",
       "    <tr style=\"text-align: right;\">\n",
       "      <th></th>\n",
       "      <th>fraud</th>\n",
       "      <th>claim_amount</th>\n",
       "      <th>claim_date_registered</th>\n",
       "      <th>claim_date_occured</th>\n",
       "      <th>claim_time_occured</th>\n",
       "      <th>claim_postal_code</th>\n",
       "      <th>claim_cause</th>\n",
       "      <th>claim_liable</th>\n",
       "      <th>claim_num_injured</th>\n",
       "      <th>claim_num_third_parties</th>\n",
       "      <th>...</th>\n",
       "      <th>repair_country</th>\n",
       "      <th>repair_sla</th>\n",
       "      <th>policy_date_start</th>\n",
       "      <th>policy_date_next_expiry</th>\n",
       "      <th>policy_date_last_renewed</th>\n",
       "      <th>policy_num_changes</th>\n",
       "      <th>policy_num_claims</th>\n",
       "      <th>policy_premium_100</th>\n",
       "      <th>policy_coverage_1000</th>\n",
       "      <th>policy_coverage_type</th>\n",
       "    </tr>\n",
       "    <tr>\n",
       "      <th>claim_id</th>\n",
       "      <th></th>\n",
       "      <th></th>\n",
       "      <th></th>\n",
       "      <th></th>\n",
       "      <th></th>\n",
       "      <th></th>\n",
       "      <th></th>\n",
       "      <th></th>\n",
       "      <th></th>\n",
       "      <th></th>\n",
       "      <th></th>\n",
       "      <th></th>\n",
       "      <th></th>\n",
       "      <th></th>\n",
       "      <th></th>\n",
       "      <th></th>\n",
       "      <th></th>\n",
       "      <th></th>\n",
       "      <th></th>\n",
       "      <th></th>\n",
       "      <th></th>\n",
       "    </tr>\n",
       "  </thead>\n",
       "  <tbody>\n",
       "    <tr>\n",
       "      <th>10000</th>\n",
       "      <td>N</td>\n",
       "      <td>4895,00</td>\n",
       "      <td>20170101</td>\n",
       "      <td>20161229</td>\n",
       "      <td>NaN</td>\n",
       "      <td>2018</td>\n",
       "      <td>traffic accident</td>\n",
       "      <td>Y</td>\n",
       "      <td>1</td>\n",
       "      <td>1</td>\n",
       "      <td>...</td>\n",
       "      <td>NaN</td>\n",
       "      <td>N</td>\n",
       "      <td>201604.0</td>\n",
       "      <td>201704.0</td>\n",
       "      <td>201704.0</td>\n",
       "      <td>1</td>\n",
       "      <td>0</td>\n",
       "      <td>4.0</td>\n",
       "      <td>NaN</td>\n",
       "      <td>#000111000</td>\n",
       "    </tr>\n",
       "    <tr>\n",
       "      <th>10001</th>\n",
       "      <td>N</td>\n",
       "      <td>3249,81</td>\n",
       "      <td>20170101</td>\n",
       "      <td>20161223</td>\n",
       "      <td>NaN</td>\n",
       "      <td>8820</td>\n",
       "      <td>traffic accident</td>\n",
       "      <td>N</td>\n",
       "      <td>0</td>\n",
       "      <td>0</td>\n",
       "      <td>...</td>\n",
       "      <td>B</td>\n",
       "      <td>Y</td>\n",
       "      <td>NaN</td>\n",
       "      <td>NaN</td>\n",
       "      <td>NaN</td>\n",
       "      <td>0</td>\n",
       "      <td>0</td>\n",
       "      <td>NaN</td>\n",
       "      <td>NaN</td>\n",
       "      <td>#000000000</td>\n",
       "    </tr>\n",
       "    <tr>\n",
       "      <th>10002</th>\n",
       "      <td>N</td>\n",
       "      <td>3242,89</td>\n",
       "      <td>20170101</td>\n",
       "      <td>20161228</td>\n",
       "      <td>NaN</td>\n",
       "      <td>1831</td>\n",
       "      <td>traffic accident</td>\n",
       "      <td>Y</td>\n",
       "      <td>0</td>\n",
       "      <td>1</td>\n",
       "      <td>...</td>\n",
       "      <td>NaN</td>\n",
       "      <td>N</td>\n",
       "      <td>200704.0</td>\n",
       "      <td>201704.0</td>\n",
       "      <td>201704.0</td>\n",
       "      <td>0</td>\n",
       "      <td>0</td>\n",
       "      <td>20.0</td>\n",
       "      <td>58.0</td>\n",
       "      <td>#111110000</td>\n",
       "    </tr>\n",
       "    <tr>\n",
       "      <th>10003</th>\n",
       "      <td>N</td>\n",
       "      <td>2687,00</td>\n",
       "      <td>20170101</td>\n",
       "      <td>20161228</td>\n",
       "      <td>NaN</td>\n",
       "      <td>2610</td>\n",
       "      <td>traffic accident</td>\n",
       "      <td>Y</td>\n",
       "      <td>0</td>\n",
       "      <td>1</td>\n",
       "      <td>...</td>\n",
       "      <td>NaN</td>\n",
       "      <td>N</td>\n",
       "      <td>199808.0</td>\n",
       "      <td>201708.0</td>\n",
       "      <td>201708.0</td>\n",
       "      <td>0</td>\n",
       "      <td>8</td>\n",
       "      <td>4.0</td>\n",
       "      <td>NaN</td>\n",
       "      <td>#000110000</td>\n",
       "    </tr>\n",
       "    <tr>\n",
       "      <th>10004</th>\n",
       "      <td>N</td>\n",
       "      <td>2084,45</td>\n",
       "      <td>20170101</td>\n",
       "      <td>20161229</td>\n",
       "      <td>NaN</td>\n",
       "      <td>1210</td>\n",
       "      <td>traffic accident</td>\n",
       "      <td>Y</td>\n",
       "      <td>0</td>\n",
       "      <td>1</td>\n",
       "      <td>...</td>\n",
       "      <td>NaN</td>\n",
       "      <td>N</td>\n",
       "      <td>200608.0</td>\n",
       "      <td>201708.0</td>\n",
       "      <td>201708.0</td>\n",
       "      <td>0</td>\n",
       "      <td>9</td>\n",
       "      <td>19.0</td>\n",
       "      <td>15.0</td>\n",
       "      <td>#111110110</td>\n",
       "    </tr>\n",
       "  </tbody>\n",
       "</table>\n",
       "<p>5 rows × 77 columns</p>\n",
       "</div>"
      ],
      "text/plain": [
       "         fraud claim_amount  claim_date_registered  claim_date_occured  \\\n",
       "claim_id                                                                 \n",
       "10000        N      4895,00               20170101            20161229   \n",
       "10001        N      3249,81               20170101            20161223   \n",
       "10002        N      3242,89               20170101            20161228   \n",
       "10003        N      2687,00               20170101            20161228   \n",
       "10004        N      2084,45               20170101            20161229   \n",
       "\n",
       "          claim_time_occured  claim_postal_code       claim_cause  \\\n",
       "claim_id                                                            \n",
       "10000                    NaN               2018  traffic accident   \n",
       "10001                    NaN               8820  traffic accident   \n",
       "10002                    NaN               1831  traffic accident   \n",
       "10003                    NaN               2610  traffic accident   \n",
       "10004                    NaN               1210  traffic accident   \n",
       "\n",
       "         claim_liable  claim_num_injured  claim_num_third_parties  ...  \\\n",
       "claim_id                                                           ...   \n",
       "10000               Y                  1                        1  ...   \n",
       "10001               N                  0                        0  ...   \n",
       "10002               Y                  0                        1  ...   \n",
       "10003               Y                  0                        1  ...   \n",
       "10004               Y                  0                        1  ...   \n",
       "\n",
       "          repair_country repair_sla policy_date_start  \\\n",
       "claim_id                                                \n",
       "10000                NaN          N          201604.0   \n",
       "10001                  B          Y               NaN   \n",
       "10002                NaN          N          200704.0   \n",
       "10003                NaN          N          199808.0   \n",
       "10004                NaN          N          200608.0   \n",
       "\n",
       "          policy_date_next_expiry policy_date_last_renewed policy_num_changes  \\\n",
       "claim_id                                                                        \n",
       "10000                    201704.0                 201704.0                  1   \n",
       "10001                         NaN                      NaN                  0   \n",
       "10002                    201704.0                 201704.0                  0   \n",
       "10003                    201708.0                 201708.0                  0   \n",
       "10004                    201708.0                 201708.0                  0   \n",
       "\n",
       "         policy_num_claims  policy_premium_100  policy_coverage_1000  \\\n",
       "claim_id                                                               \n",
       "10000                    0                 4.0                   NaN   \n",
       "10001                    0                 NaN                   NaN   \n",
       "10002                    0                20.0                  58.0   \n",
       "10003                    8                 4.0                   NaN   \n",
       "10004                    9                19.0                  15.0   \n",
       "\n",
       "          policy_coverage_type  \n",
       "claim_id                        \n",
       "10000               #000111000  \n",
       "10001               #000000000  \n",
       "10002               #111110000  \n",
       "10003               #000110000  \n",
       "10004               #111110110  \n",
       "\n",
       "[5 rows x 77 columns]"
      ]
     },
     "execution_count": 6,
     "metadata": {},
     "output_type": "execute_result"
    }
   ],
   "source": [
    "# IMPORTING THE DATA and basic statistics\n",
    "    #Remove automatic generation of index because rows are uniquely identified with claim_id\n",
    "    #And because it avoids creating a useless column in the subsets (train-validation-test) later on\n",
    "data = pd.read_csv('https://raw.githubusercontent.com/lehtlass/advanced-analytics/main/data/train.csv', index_col=0, sep=';')\n",
    "\n",
    "# How many records and attributes are there?\n",
    "print('There are ' + str(data.shape[0]) + ' records')\n",
    "print(\"\")\n",
    "print('There are ' + str(data.columns.size) + ' attributes:')   \n",
    "\n",
    "# What are the attributes?\n",
    "print(data.dtypes)\n",
    "print(\"\")\n",
    "\n",
    "# First overview  \n",
    "print(\"> 5 FIRST OBSERVATIONS OF THE DATASET\")\n",
    "data.head(5)"
   ]
  },
  {
   "cell_type": "markdown",
   "metadata": {
    "id": "-Xe6BJMQ2TX3"
   },
   "source": [
    "# 1. Train-Validation-Test Split"
   ]
  },
  {
   "cell_type": "code",
   "execution_count": 7,
   "metadata": {
    "colab": {
     "base_uri": "https://localhost:8080/"
    },
    "id": "lKOgDsfV2TX3",
    "outputId": "12b7e3e4-76b5-4f3d-93e1-8f312cb86154"
   },
   "outputs": [
    {
     "ename": "ModuleNotFoundError",
     "evalue": "No module named 'sklearn'",
     "output_type": "error",
     "traceback": [
      "\u001b[0;31m---------------------------------------------------------------------------\u001b[0m",
      "\u001b[0;31mModuleNotFoundError\u001b[0m                       Traceback (most recent call last)",
      "\u001b[0;32m<ipython-input-7-338d29541165>\u001b[0m in \u001b[0;36m<module>\u001b[0;34m\u001b[0m\n\u001b[1;32m      1\u001b[0m \u001b[0;31m#SETTING ASIDE VALIDATION AND TEST SETS\u001b[0m\u001b[0;34m\u001b[0m\u001b[0;34m\u001b[0m\u001b[0;34m\u001b[0m\u001b[0m\n\u001b[0;32m----> 2\u001b[0;31m \u001b[0;32mfrom\u001b[0m \u001b[0msklearn\u001b[0m\u001b[0;34m.\u001b[0m\u001b[0mmodel_selection\u001b[0m \u001b[0;32mimport\u001b[0m \u001b[0mtrain_test_split\u001b[0m\u001b[0;34m\u001b[0m\u001b[0;34m\u001b[0m\u001b[0m\n\u001b[0m\u001b[1;32m      3\u001b[0m \u001b[0;34m\u001b[0m\u001b[0m\n\u001b[1;32m      4\u001b[0m \u001b[0;31m#Separate features from the target\u001b[0m\u001b[0;34m\u001b[0m\u001b[0;34m\u001b[0m\u001b[0;34m\u001b[0m\u001b[0m\n\u001b[1;32m      5\u001b[0m \u001b[0mX\u001b[0m \u001b[0;34m=\u001b[0m \u001b[0mdata\u001b[0m\u001b[0;34m.\u001b[0m\u001b[0mdrop\u001b[0m\u001b[0;34m(\u001b[0m\u001b[0;34m'fraud'\u001b[0m\u001b[0;34m,\u001b[0m \u001b[0;36m1\u001b[0m\u001b[0;34m)\u001b[0m    \u001b[0;31m#Attributes\u001b[0m\u001b[0;34m\u001b[0m\u001b[0;34m\u001b[0m\u001b[0m\n",
      "\u001b[0;31mModuleNotFoundError\u001b[0m: No module named 'sklearn'"
     ]
    }
   ],
   "source": [
    "#SETTING ASIDE VALIDATION AND TEST SETS\n",
    "from sklearn.model_selection import train_test_split\n",
    "\n",
    "#Separate features from the target\n",
    "X = data.drop('fraud', 1)    #Attributes\n",
    "y = data['fraud']            #Target\n",
    "\n",
    "\n",
    "#Function performing the split\n",
    "def split_data_set (train_size=0.6, validation_size=0.2):\n",
    "    global X_train, y_train, X_validation, y_validation, X_test, y_test\n",
    "    X_train, X_validation_test, y_train, y_validation_test = train_test_split(X, y, test_size= (1 - train_size), random_state=1)\n",
    "    X_validation, X_test, y_validation, y_test = train_test_split(X_validation_test, y_validation_test, test_size = ((1-train_size-validation_size)/(1-train_size)), random_state=1)\n",
    "split_data_set()\n",
    "\n",
    "\n",
    "#Checking the distribution of classes in each set of the target\n",
    "print(\"Train\\n\",y_train.value_counts(normalize='True'))\n",
    "print(\"\\n\", \"Validation\\n\",y_validation.value_counts(normalize='True'))\n",
    "print(\"\\n\", \"Test\\n\",y_test.value_counts(normalize='True'))\n",
    "\n",
    "\n",
    "#Lines below to uncomment in order to generate the data sets:\n",
    "    #N.B: Claim_ID removed in the data sets (OK? normally to remove anyway afterwards)\n",
    "train_df = pd.DataFrame(X_train)\n",
    "train_df['fraud'] = y_train\n",
    "train_df.to_csv('train_set.csv', index=False)\n",
    "\n",
    "validation_df = pd.DataFrame(X_validation)\n",
    "validation_df['fraud'] = y_validation\n",
    "validation_df.to_csv('validation_set.csv', index=False)\n",
    "\n",
    "test_df = pd.DataFrame(X_test)\n",
    "test_df['fraud'] = y_test\n",
    "test_df.to_csv('test_set.csv', index=False)"
   ]
  },
  {
   "cell_type": "code",
   "execution_count": null,
   "metadata": {
    "id": "Q4J4R-cHnqmL"
   },
   "outputs": [],
   "source": []
  },
  {
   "cell_type": "code",
   "execution_count": null,
   "metadata": {
    "id": "p1UIEVjZ2TX4",
    "outputId": "43763b8d-bd8b-462b-cf11-4ee333870478"
   },
   "outputs": [
    {
     "name": "stdout",
     "output_type": "stream",
     "text": [
      "There are 33277 records in the training set\n",
      "\n",
      "There are 11093 records in the validation set\n",
      "\n",
      "There are 11093 records in the test set\n"
     ]
    }
   ],
   "source": [
    "#ANALYSIS OF THE SUBSETS\n",
    "print('There are ' + str(X_train.shape[0]) + ' records in the training set')\n",
    "print(\"\")\n",
    "print('There are ' + str(X_validation.shape[0]) + ' records in the validation set')\n",
    "print(\"\")\n",
    "print('There are ' + str(X_test.shape[0]) + ' records in the test set')"
   ]
  },
  {
   "cell_type": "markdown",
   "metadata": {
    "id": "2wFKQNgZ2TX5"
   },
   "source": [
    "# 2. Exploration on train_set"
   ]
  },
  {
   "cell_type": "markdown",
   "metadata": {
    "id": "Oa85X7FW2TX5"
   },
   "source": [
    "## 2.1 Importing the train set"
   ]
  },
  {
   "cell_type": "code",
   "execution_count": null,
   "metadata": {
    "id": "yTliXeo52TX6",
    "outputId": "edc221df-d0ff-493d-ac32-388cbc76ed2b"
   },
   "outputs": [
    {
     "name": "stdout",
     "output_type": "stream",
     "text": [
      "(33277, 77)\n"
     ]
    },
    {
     "name": "stderr",
     "output_type": "stream",
     "text": [
      "C:\\Anaconda_Pyhton\\lib\\site-packages\\IPython\\core\\interactiveshell.py:3071: DtypeWarning: Columns (52,53,55,56,57,59,60) have mixed types.Specify dtype option on import or set low_memory=False.\n",
      "  has_raised = await self.run_ast_nodes(code_ast.body, cell_name,\n"
     ]
    },
    {
     "data": {
      "text/html": [
       "<div>\n",
       "<style scoped>\n",
       "    .dataframe tbody tr th:only-of-type {\n",
       "        vertical-align: middle;\n",
       "    }\n",
       "\n",
       "    .dataframe tbody tr th {\n",
       "        vertical-align: top;\n",
       "    }\n",
       "\n",
       "    .dataframe thead th {\n",
       "        text-align: right;\n",
       "    }\n",
       "</style>\n",
       "<table border=\"1\" class=\"dataframe\">\n",
       "  <thead>\n",
       "    <tr style=\"text-align: right;\">\n",
       "      <th></th>\n",
       "      <th>claim_amount</th>\n",
       "      <th>claim_date_registered</th>\n",
       "      <th>claim_date_occured</th>\n",
       "      <th>claim_time_occured</th>\n",
       "      <th>claim_postal_code</th>\n",
       "      <th>claim_cause</th>\n",
       "      <th>claim_liable</th>\n",
       "      <th>claim_num_injured</th>\n",
       "      <th>claim_num_third_parties</th>\n",
       "      <th>claim_num_vehicles</th>\n",
       "      <th>...</th>\n",
       "      <th>repair_sla</th>\n",
       "      <th>policy_date_start</th>\n",
       "      <th>policy_date_next_expiry</th>\n",
       "      <th>policy_date_last_renewed</th>\n",
       "      <th>policy_num_changes</th>\n",
       "      <th>policy_num_claims</th>\n",
       "      <th>policy_premium_100</th>\n",
       "      <th>policy_coverage_1000</th>\n",
       "      <th>policy_coverage_type</th>\n",
       "      <th>fraud</th>\n",
       "    </tr>\n",
       "  </thead>\n",
       "  <tbody>\n",
       "    <tr>\n",
       "      <th>0</th>\n",
       "      <td>694,48</td>\n",
       "      <td>20171113</td>\n",
       "      <td>20171031</td>\n",
       "      <td>NaN</td>\n",
       "      <td>1210</td>\n",
       "      <td>traffic accident</td>\n",
       "      <td>Y</td>\n",
       "      <td>0</td>\n",
       "      <td>1</td>\n",
       "      <td>2</td>\n",
       "      <td>...</td>\n",
       "      <td>N</td>\n",
       "      <td>201007.0</td>\n",
       "      <td>201810.0</td>\n",
       "      <td>201810.0</td>\n",
       "      <td>0</td>\n",
       "      <td>6</td>\n",
       "      <td>8.0</td>\n",
       "      <td>31.0</td>\n",
       "      <td>#110111010</td>\n",
       "      <td>N</td>\n",
       "    </tr>\n",
       "    <tr>\n",
       "      <th>1</th>\n",
       "      <td>1279,73</td>\n",
       "      <td>20170814</td>\n",
       "      <td>20170803</td>\n",
       "      <td>NaN</td>\n",
       "      <td>8340</td>\n",
       "      <td>traffic accident</td>\n",
       "      <td>N</td>\n",
       "      <td>0</td>\n",
       "      <td>1</td>\n",
       "      <td>3</td>\n",
       "      <td>...</td>\n",
       "      <td>N</td>\n",
       "      <td>201305.0</td>\n",
       "      <td>201805.0</td>\n",
       "      <td>201805.0</td>\n",
       "      <td>1</td>\n",
       "      <td>0</td>\n",
       "      <td>4.0</td>\n",
       "      <td>NaN</td>\n",
       "      <td>#000111000</td>\n",
       "      <td>N</td>\n",
       "    </tr>\n",
       "    <tr>\n",
       "      <th>2</th>\n",
       "      <td>1459,42</td>\n",
       "      <td>20171130</td>\n",
       "      <td>20171106</td>\n",
       "      <td>NaN</td>\n",
       "      <td>9950</td>\n",
       "      <td>traffic accident</td>\n",
       "      <td>N</td>\n",
       "      <td>0</td>\n",
       "      <td>1</td>\n",
       "      <td>2</td>\n",
       "      <td>...</td>\n",
       "      <td>Y</td>\n",
       "      <td>200804.0</td>\n",
       "      <td>201804.0</td>\n",
       "      <td>201804.0</td>\n",
       "      <td>0</td>\n",
       "      <td>2</td>\n",
       "      <td>7.0</td>\n",
       "      <td>17.0</td>\n",
       "      <td>#111110000</td>\n",
       "      <td>N</td>\n",
       "    </tr>\n",
       "    <tr>\n",
       "      <th>3</th>\n",
       "      <td>2119,55</td>\n",
       "      <td>20170814</td>\n",
       "      <td>20170813</td>\n",
       "      <td>NaN</td>\n",
       "      <td>7090</td>\n",
       "      <td>traffic accident</td>\n",
       "      <td>N</td>\n",
       "      <td>0</td>\n",
       "      <td>1</td>\n",
       "      <td>2</td>\n",
       "      <td>...</td>\n",
       "      <td>Y</td>\n",
       "      <td>201403.0</td>\n",
       "      <td>201803.0</td>\n",
       "      <td>201803.0</td>\n",
       "      <td>1</td>\n",
       "      <td>1</td>\n",
       "      <td>15.0</td>\n",
       "      <td>22.0</td>\n",
       "      <td>#111110110</td>\n",
       "      <td>N</td>\n",
       "    </tr>\n",
       "    <tr>\n",
       "      <th>4</th>\n",
       "      <td>1421,48</td>\n",
       "      <td>20170923</td>\n",
       "      <td>20170917</td>\n",
       "      <td>NaN</td>\n",
       "      <td>7334</td>\n",
       "      <td>traffic accident</td>\n",
       "      <td>N</td>\n",
       "      <td>0</td>\n",
       "      <td>1</td>\n",
       "      <td>3</td>\n",
       "      <td>...</td>\n",
       "      <td>N</td>\n",
       "      <td>201605.0</td>\n",
       "      <td>201805.0</td>\n",
       "      <td>201805.0</td>\n",
       "      <td>0</td>\n",
       "      <td>0</td>\n",
       "      <td>6.0</td>\n",
       "      <td>NaN</td>\n",
       "      <td>#000110100</td>\n",
       "      <td>N</td>\n",
       "    </tr>\n",
       "  </tbody>\n",
       "</table>\n",
       "<p>5 rows × 77 columns</p>\n",
       "</div>"
      ],
      "text/plain": [
       "  claim_amount  claim_date_registered  claim_date_occured  claim_time_occured  \\\n",
       "0       694,48               20171113            20171031                 NaN   \n",
       "1      1279,73               20170814            20170803                 NaN   \n",
       "2      1459,42               20171130            20171106                 NaN   \n",
       "3      2119,55               20170814            20170813                 NaN   \n",
       "4      1421,48               20170923            20170917                 NaN   \n",
       "\n",
       "   claim_postal_code       claim_cause claim_liable  claim_num_injured  \\\n",
       "0               1210  traffic accident            Y                  0   \n",
       "1               8340  traffic accident            N                  0   \n",
       "2               9950  traffic accident            N                  0   \n",
       "3               7090  traffic accident            N                  0   \n",
       "4               7334  traffic accident            N                  0   \n",
       "\n",
       "   claim_num_third_parties  claim_num_vehicles  ... repair_sla  \\\n",
       "0                        1                   2  ...          N   \n",
       "1                        1                   3  ...          N   \n",
       "2                        1                   2  ...          Y   \n",
       "3                        1                   2  ...          Y   \n",
       "4                        1                   3  ...          N   \n",
       "\n",
       "  policy_date_start  policy_date_next_expiry policy_date_last_renewed  \\\n",
       "0          201007.0                 201810.0                 201810.0   \n",
       "1          201305.0                 201805.0                 201805.0   \n",
       "2          200804.0                 201804.0                 201804.0   \n",
       "3          201403.0                 201803.0                 201803.0   \n",
       "4          201605.0                 201805.0                 201805.0   \n",
       "\n",
       "  policy_num_changes policy_num_claims  policy_premium_100  \\\n",
       "0                  0                 6                 8.0   \n",
       "1                  1                 0                 4.0   \n",
       "2                  0                 2                 7.0   \n",
       "3                  1                 1                15.0   \n",
       "4                  0                 0                 6.0   \n",
       "\n",
       "   policy_coverage_1000  policy_coverage_type  fraud  \n",
       "0                  31.0            #110111010      N  \n",
       "1                   NaN            #000111000      N  \n",
       "2                  17.0            #111110000      N  \n",
       "3                  22.0            #111110110      N  \n",
       "4                   NaN            #000110100      N  \n",
       "\n",
       "[5 rows x 77 columns]"
      ]
     },
     "execution_count": 5,
     "metadata": {
      "tags": []
     },
     "output_type": "execute_result"
    }
   ],
   "source": [
    "#Importing the training set\n",
    "    #Problem with some variables' type to resolve\n",
    "df = pd.read_csv(\"train_set.csv\")\n",
    "print(df.shape)\n",
    "df.head(5)"
   ]
  },
  {
   "cell_type": "markdown",
   "metadata": {
    "id": "PdDVvNuT2TX6"
   },
   "source": [
    "## 2.2 Global statistics"
   ]
  },
  {
   "cell_type": "code",
   "execution_count": null,
   "metadata": {
    "id": "1yQgNu5G2TX7",
    "outputId": "78b274a5-e816-4a4b-b00f-a7391874f9ac"
   },
   "outputs": [
    {
     "name": "stdout",
     "output_type": "stream",
     "text": [
      "> ATTRIBUTES' NAMES\n",
      "Index(['claim_amount', 'claim_date_registered', 'claim_date_occured',\n",
      "       'claim_time_occured', 'claim_postal_code', 'claim_cause',\n",
      "       'claim_liable', 'claim_num_injured', 'claim_num_third_parties',\n",
      "       'claim_num_vehicles', 'claim_police', 'claim_alcohol', 'claim_language',\n",
      "       'claim_vehicle_id', 'claim_vehicle_brand', 'claim_vehicle_type',\n",
      "       'claim_vehicle_date_inuse', 'claim_vehicle_cyl', 'claim_vehicle_load',\n",
      "       'claim_vehicle_fuel_type', 'claim_vehicle_power', 'policy_holder_id',\n",
      "       'policy_holder_postal_code', 'policy_holder_form',\n",
      "       'policy_holder_year_birth', 'policy_holder_country',\n",
      "       'policy_holder_expert_id', 'driver_id', 'driver_postal_code',\n",
      "       'driver_form', 'driver_year_birth', 'driver_country',\n",
      "       'driver_expert_id', 'driver_injured', 'driver_vehicle_id',\n",
      "       'third_party_1_id', 'third_party_1_postal_code',\n",
      "       'third_party_1_injured', 'third_party_1_vehicle_type',\n",
      "       'third_party_1_form', 'third_party_1_year_birth',\n",
      "       'third_party_1_country', 'third_party_1_vehicle_id',\n",
      "       'third_party_1_expert_id', 'third_party_2_id',\n",
      "       'third_party_2_postal_code', 'third_party_2_injured',\n",
      "       'third_party_2_vehicle_type', 'third_party_2_form',\n",
      "       'third_party_2_year_birth', 'third_party_2_country',\n",
      "       'third_party_2_vehicle_id', 'third_party_2_expert_id',\n",
      "       'third_party_3_id', 'third_party_3_postal_code',\n",
      "       'third_party_3_injured', 'third_party_3_vehicle_type',\n",
      "       'third_party_3_form', 'third_party_3_year_birth',\n",
      "       'third_party_3_country', 'third_party_3_vehicle_id',\n",
      "       'third_party_3_expert_id', 'repair_id', 'repair_postal_code',\n",
      "       'repair_form', 'repair_year_birth', 'repair_country', 'repair_sla',\n",
      "       'policy_date_start', 'policy_date_next_expiry',\n",
      "       'policy_date_last_renewed', 'policy_num_changes', 'policy_num_claims',\n",
      "       'policy_premium_100', 'policy_coverage_1000', 'policy_coverage_type',\n",
      "       'fraud'],\n",
      "      dtype='object')\n",
      "\n",
      "> DATASET STATS\n",
      "<class 'pandas.core.frame.DataFrame'>\n",
      "RangeIndex: 33277 entries, 0 to 33276\n",
      "Data columns (total 77 columns):\n",
      " #   Column                      Non-Null Count  Dtype  \n",
      "---  ------                      --------------  -----  \n",
      " 0   claim_amount                33277 non-null  object \n",
      " 1   claim_date_registered       33277 non-null  int64  \n",
      " 2   claim_date_occured          33277 non-null  int64  \n",
      " 3   claim_time_occured          3906 non-null   float64\n",
      " 4   claim_postal_code           33277 non-null  int64  \n",
      " 5   claim_cause                 33277 non-null  object \n",
      " 6   claim_liable                33277 non-null  object \n",
      " 7   claim_num_injured           33277 non-null  int64  \n",
      " 8   claim_num_third_parties     33277 non-null  int64  \n",
      " 9   claim_num_vehicles          33277 non-null  int64  \n",
      " 10  claim_police                33277 non-null  object \n",
      " 11  claim_alcohol               545 non-null    object \n",
      " 12  claim_language              33253 non-null  float64\n",
      " 13  claim_vehicle_id            27080 non-null  object \n",
      " 14  claim_vehicle_brand         27325 non-null  object \n",
      " 15  claim_vehicle_type          33184 non-null  object \n",
      " 16  claim_vehicle_date_inuse    32910 non-null  float64\n",
      " 17  claim_vehicle_cyl           30322 non-null  float64\n",
      " 18  claim_vehicle_load          28124 non-null  float64\n",
      " 19  claim_vehicle_fuel_type     33030 non-null  float64\n",
      " 20  claim_vehicle_power         27813 non-null  float64\n",
      " 21  policy_holder_id            33277 non-null  object \n",
      " 22  policy_holder_postal_code   33222 non-null  float64\n",
      " 23  policy_holder_form          33277 non-null  object \n",
      " 24  policy_holder_year_birth    30083 non-null  float64\n",
      " 25  policy_holder_country       33277 non-null  object \n",
      " 26  policy_holder_expert_id     5696 non-null   object \n",
      " 27  driver_id                   33277 non-null  object \n",
      " 28  driver_postal_code          33234 non-null  float64\n",
      " 29  driver_form                 33277 non-null  object \n",
      " 30  driver_year_birth           25896 non-null  float64\n",
      " 31  driver_country              33277 non-null  object \n",
      " 32  driver_expert_id            8174 non-null   object \n",
      " 33  driver_injured              33277 non-null  object \n",
      " 34  driver_vehicle_id           27087 non-null  object \n",
      " 35  third_party_1_id            25056 non-null  object \n",
      " 36  third_party_1_postal_code   24412 non-null  float64\n",
      " 37  third_party_1_injured       25056 non-null  object \n",
      " 38  third_party_1_vehicle_type  23701 non-null  object \n",
      " 39  third_party_1_form          25056 non-null  object \n",
      " 40  third_party_1_year_birth    5902 non-null   float64\n",
      " 41  third_party_1_country       25056 non-null  object \n",
      " 42  third_party_1_vehicle_id    22028 non-null  object \n",
      " 43  third_party_1_expert_id     388 non-null    object \n",
      " 44  third_party_2_id            2544 non-null   object \n",
      " 45  third_party_2_postal_code   2470 non-null   float64\n",
      " 46  third_party_2_injured       2544 non-null   object \n",
      " 47  third_party_2_vehicle_type  2091 non-null   object \n",
      " 48  third_party_2_form          2544 non-null   object \n",
      " 49  third_party_2_year_birth    993 non-null    float64\n",
      " 50  third_party_2_country       2544 non-null   object \n",
      " 51  third_party_2_vehicle_id    1725 non-null   object \n",
      " 52  third_party_2_expert_id     15 non-null     object \n",
      " 53  third_party_3_id            17 non-null     object \n",
      " 54  third_party_3_postal_code   17 non-null     float64\n",
      " 55  third_party_3_injured       17 non-null     object \n",
      " 56  third_party_3_vehicle_type  16 non-null     object \n",
      " 57  third_party_3_form          17 non-null     object \n",
      " 58  third_party_3_year_birth    6 non-null      float64\n",
      " 59  third_party_3_country       17 non-null     object \n",
      " 60  third_party_3_vehicle_id    14 non-null     object \n",
      " 61  third_party_3_expert_id     0 non-null      float64\n",
      " 62  repair_id                   15319 non-null  object \n",
      " 63  repair_postal_code          15307 non-null  float64\n",
      " 64  repair_form                 15319 non-null  object \n",
      " 65  repair_year_birth           54 non-null     float64\n",
      " 66  repair_country              15319 non-null  object \n",
      " 67  repair_sla                  33277 non-null  object \n",
      " 68  policy_date_start           27811 non-null  float64\n",
      " 69  policy_date_next_expiry     27811 non-null  float64\n",
      " 70  policy_date_last_renewed    27811 non-null  float64\n",
      " 71  policy_num_changes          33277 non-null  int64  \n",
      " 72  policy_num_claims           33277 non-null  int64  \n",
      " 73  policy_premium_100          27805 non-null  float64\n",
      " 74  policy_coverage_1000        16275 non-null  float64\n",
      " 75  policy_coverage_type        33277 non-null  object \n",
      " 76  fraud                       33277 non-null  object \n",
      "dtypes: float64(25), int64(8), object(44)\n",
      "memory usage: 19.5+ MB\n",
      "None\n",
      "\n",
      "> DESCRIPTION OF NUMERICAL ATTRIBUTES\n",
      "       claim_date_registered  claim_date_occured  claim_time_occured  \\\n",
      "count           3.327700e+04        3.327700e+04         3906.000000   \n",
      "mean            2.017067e+07        2.017019e+07         1362.877624   \n",
      "std             3.448698e+02        2.439704e+03          471.912841   \n",
      "min             2.017010e+07        2.010032e+07            0.000000   \n",
      "25%             2.017040e+07        2.017032e+07         1030.000000   \n",
      "50%             2.017063e+07        2.017061e+07         1400.000000   \n",
      "75%             2.017100e+07        2.017092e+07         1730.000000   \n",
      "max             2.017123e+07        2.017123e+07         2400.000000   \n",
      "\n",
      "       claim_postal_code  claim_num_injured  claim_num_third_parties  \\\n",
      "count       33277.000000       33277.000000             33277.000000   \n",
      "mean         4925.280464           0.072032                 0.831986   \n",
      "std          2983.479243           0.313591                 0.579471   \n",
      "min          1000.000000           0.000000                 0.000000   \n",
      "25%          2300.000000           0.000000                 1.000000   \n",
      "50%          3945.000000           0.000000                 1.000000   \n",
      "75%          8370.000000           0.000000                 1.000000   \n",
      "max          9991.000000           5.000000                 5.000000   \n",
      "\n",
      "       claim_num_vehicles  claim_language  claim_vehicle_date_inuse  \\\n",
      "count        33277.000000    33253.000000              32910.000000   \n",
      "mean             2.404964        1.707064             200882.957308   \n",
      "std              0.917938        0.455116                508.503393   \n",
      "min              0.000000        1.000000             196204.000000   \n",
      "25%              2.000000        1.000000             200603.000000   \n",
      "50%              2.000000        2.000000             201006.000000   \n",
      "75%              3.000000        2.000000             201303.000000   \n",
      "max              5.000000        2.000000             201705.000000   \n",
      "\n",
      "       claim_vehicle_cyl  ...  third_party_3_expert_id  repair_postal_code  \\\n",
      "count       30322.000000  ...                      0.0        15307.000000   \n",
      "mean         1578.825902  ...                      NaN         5136.022147   \n",
      "std           568.538684  ...                      NaN         2820.426760   \n",
      "min             0.000000  ...                      NaN         1000.000000   \n",
      "25%          1360.000000  ...                      NaN         2800.000000   \n",
      "50%          1587.000000  ...                      NaN         4020.000000   \n",
      "75%          1968.000000  ...                      NaN         8400.000000   \n",
      "max          3000.000000  ...                      NaN         9992.000000   \n",
      "\n",
      "       repair_year_birth  policy_date_start  policy_date_next_expiry  \\\n",
      "count          54.000000       27811.000000             27811.000000   \n",
      "mean         1969.000000      200842.122721            201754.641437   \n",
      "std            12.518665        1244.850274                53.303855   \n",
      "min          1935.000000      195201.000000            201005.000000   \n",
      "25%          1961.000000      200708.000000            201709.000000   \n",
      "50%          1968.000000      201212.000000            201712.000000   \n",
      "75%          1976.750000      201509.000000            201804.000000   \n",
      "max          1996.000000      201712.000000            201812.000000   \n",
      "\n",
      "       policy_date_last_renewed  policy_num_changes  policy_num_claims  \\\n",
      "count              27811.000000        33277.000000       33277.000000   \n",
      "mean              201754.641437            0.424648           2.008564   \n",
      "std                   53.303855            0.941080           2.546199   \n",
      "min               201005.000000            0.000000           0.000000   \n",
      "25%               201709.000000            0.000000           0.000000   \n",
      "50%               201712.000000            0.000000           1.000000   \n",
      "75%               201804.000000            0.000000           3.000000   \n",
      "max               201812.000000           10.000000          10.000000   \n",
      "\n",
      "       policy_premium_100  policy_coverage_1000  \n",
      "count        27805.000000          16275.000000  \n",
      "mean             7.957598             21.538802  \n",
      "std              4.209565             10.800981  \n",
      "min              1.000000              1.000000  \n",
      "25%              4.000000             14.000000  \n",
      "50%              7.000000             19.000000  \n",
      "75%             10.000000             26.000000  \n",
      "max             52.000000            148.000000  \n",
      "\n",
      "[8 rows x 33 columns]\n",
      "\n",
      "> DESCRIPTION OF CATEGORICAL ATTRIBUTES\n",
      "       claim_amount       claim_cause claim_liable claim_police claim_alcohol  \\\n",
      "count         33277             33277        33277        33277           545   \n",
      "unique        30517                 8            2            2             2   \n",
      "top         1447,00  traffic accident            N            N             N   \n",
      "freq             14             26108        20328        28716           482   \n",
      "\n",
      "                                   claim_vehicle_id claim_vehicle_brand  \\\n",
      "count                                         27080               27325   \n",
      "unique                                        25379                  35   \n",
      "top     OGM2NWY5MzQ3ZDRhM2FmYjlmMmJjYjg3YWUyODRmYjg          VOLKSWAGEN   \n",
      "freq                                              4                2925   \n",
      "\n",
      "       claim_vehicle_type                             policy_holder_id  \\\n",
      "count               33184                                        33277   \n",
      "unique                  2                                        19838   \n",
      "top                   car  MTNlMmVhMzM4ZWMzNDIyMTY2OTJhN2EwY2E1YmI2N2I   \n",
      "freq                30981                                           80   \n",
      "\n",
      "       policy_holder_form  ... third_party_3_vehicle_type third_party_3_form  \\\n",
      "count               33277  ...                         16                 17   \n",
      "unique                  2  ...                          3                  4   \n",
      "top                     M  ...                        car                  U   \n",
      "freq                20952  ...                         14                  8   \n",
      "\n",
      "       third_party_3_country                     third_party_3_vehicle_id  \\\n",
      "count                     17                                           14   \n",
      "unique                     1                                           14   \n",
      "top                        B  MWZkMGVhNDZmYjgxMTlhYjVlYmUzOTRiYjg4M2E4ZTU   \n",
      "freq                      17                                            1   \n",
      "\n",
      "                                          repair_id repair_form  \\\n",
      "count                                         15319       15319   \n",
      "unique                                         3697           3   \n",
      "top     NzRjYTk0N2NiMTU4ZWYwMTdiM2Y1NTZiNjFiM2QxY2Y           C   \n",
      "freq                                            203       15034   \n",
      "\n",
      "       repair_country repair_sla policy_coverage_type  fraud  \n",
      "count           15319      33277                33277  33277  \n",
      "unique              2          2                   70      2  \n",
      "top                 B          N           #000110000      N  \n",
      "freq            15307      21378                 6989  33099  \n",
      "\n",
      "[4 rows x 44 columns]\n"
     ]
    }
   ],
   "source": [
    "#DESCRIPTIVE STATISTICS\n",
    "print(\"> ATTRIBUTES' NAMES\")\n",
    "print(df.columns)\n",
    "print(\"\")\n",
    "\n",
    "print(\"> DATASET STATS\")\n",
    "print(df.info()) #displays dataset stats (null values, data types, ...)\n",
    "print(\"\")\n",
    "\n",
    "print(\"> DESCRIPTION OF NUMERICAL ATTRIBUTES\")\n",
    "print(df.describe())\n",
    "print(\"\")\n",
    "\n",
    "print(\"> DESCRIPTION OF CATEGORICAL ATTRIBUTES\")\n",
    "print(df.describe(include=['object']))"
   ]
  },
  {
   "cell_type": "markdown",
   "metadata": {
    "id": "FDCip8uB2TX8"
   },
   "source": [
    "Among the 33 277 observed cases, only 178 are fraudulant and should be predicted as 'yes'."
   ]
  },
  {
   "cell_type": "markdown",
   "metadata": {
    "id": "gbNBJde-2TX8"
   },
   "source": [
    "Attributes that have 33 099 recorded values = no missing data:\n",
    "* claim_amount\n",
    "* claim_date_registered\n",
    "* claim_date_occured\n",
    "* claim_postal_code\n",
    "* claim_cause\n",
    "* claim_liable \n",
    "* claim_num_injured  \n",
    "* claim_num_third_parties \n",
    "* claim_num_vehicles \n",
    "* claim_police\n",
    "* policy_holder_country\n",
    "* policy_holder_id\n",
    "* policy_holder_form\n",
    "* driver_id\n",
    "* driver_form\n",
    "* driver_country\n",
    "* driver_injured\n",
    "* repair_sla\n",
    "* policy_num_changes\n",
    "* policy_num_claims\n",
    "* policy_coverage_type\n",
    "* fraud"
   ]
  },
  {
   "cell_type": "code",
   "execution_count": null,
   "metadata": {
    "id": "3o_9BD382TX8",
    "outputId": "858be149-5b34-4375-e507-b0a9bcab7d98"
   },
   "outputs": [
    {
     "name": "stdout",
     "output_type": "stream",
     "text": [
      "<class 'pandas.core.frame.DataFrame'>\n",
      "RangeIndex: 33277 entries, 0 to 33276\n",
      "Data columns (total 77 columns):\n",
      " #   Column                      Non-Null Count  Dtype  \n",
      "---  ------                      --------------  -----  \n",
      " 0   claim_amount                33277 non-null  object \n",
      " 1   claim_date_registered       33277 non-null  int64  \n",
      " 2   claim_date_occured          33277 non-null  int64  \n",
      " 3   claim_time_occured          3906 non-null   float64\n",
      " 4   claim_postal_code           33277 non-null  int64  \n",
      " 5   claim_cause                 33277 non-null  object \n",
      " 6   claim_liable                33277 non-null  object \n",
      " 7   claim_num_injured           33277 non-null  int64  \n",
      " 8   claim_num_third_parties     33277 non-null  int64  \n",
      " 9   claim_num_vehicles          33277 non-null  int64  \n",
      " 10  claim_police                33277 non-null  object \n",
      " 11  claim_alcohol               545 non-null    object \n",
      " 12  claim_language              33253 non-null  float64\n",
      " 13  claim_vehicle_id            27080 non-null  object \n",
      " 14  claim_vehicle_brand         27325 non-null  object \n",
      " 15  claim_vehicle_type          33184 non-null  object \n",
      " 16  claim_vehicle_date_inuse    32910 non-null  float64\n",
      " 17  claim_vehicle_cyl           30322 non-null  float64\n",
      " 18  claim_vehicle_load          28124 non-null  float64\n",
      " 19  claim_vehicle_fuel_type     33030 non-null  float64\n",
      " 20  claim_vehicle_power         27813 non-null  float64\n",
      " 21  policy_holder_id            33277 non-null  object \n",
      " 22  policy_holder_postal_code   33222 non-null  float64\n",
      " 23  policy_holder_form          33277 non-null  object \n",
      " 24  policy_holder_year_birth    30083 non-null  float64\n",
      " 25  policy_holder_country       33277 non-null  object \n",
      " 26  policy_holder_expert_id     5696 non-null   object \n",
      " 27  driver_id                   33277 non-null  object \n",
      " 28  driver_postal_code          33234 non-null  float64\n",
      " 29  driver_form                 33277 non-null  object \n",
      " 30  driver_year_birth           25896 non-null  float64\n",
      " 31  driver_country              33277 non-null  object \n",
      " 32  driver_expert_id            8174 non-null   object \n",
      " 33  driver_injured              33277 non-null  object \n",
      " 34  driver_vehicle_id           27087 non-null  object \n",
      " 35  third_party_1_id            25056 non-null  object \n",
      " 36  third_party_1_postal_code   24412 non-null  float64\n",
      " 37  third_party_1_injured       25056 non-null  object \n",
      " 38  third_party_1_vehicle_type  23701 non-null  object \n",
      " 39  third_party_1_form          25056 non-null  object \n",
      " 40  third_party_1_year_birth    5902 non-null   float64\n",
      " 41  third_party_1_country       25056 non-null  object \n",
      " 42  third_party_1_vehicle_id    22028 non-null  object \n",
      " 43  third_party_1_expert_id     388 non-null    object \n",
      " 44  third_party_2_id            2544 non-null   object \n",
      " 45  third_party_2_postal_code   2470 non-null   float64\n",
      " 46  third_party_2_injured       2544 non-null   object \n",
      " 47  third_party_2_vehicle_type  2091 non-null   object \n",
      " 48  third_party_2_form          2544 non-null   object \n",
      " 49  third_party_2_year_birth    993 non-null    float64\n",
      " 50  third_party_2_country       2544 non-null   object \n",
      " 51  third_party_2_vehicle_id    1725 non-null   object \n",
      " 52  third_party_2_expert_id     15 non-null     object \n",
      " 53  third_party_3_id            17 non-null     object \n",
      " 54  third_party_3_postal_code   17 non-null     float64\n",
      " 55  third_party_3_injured       17 non-null     object \n",
      " 56  third_party_3_vehicle_type  16 non-null     object \n",
      " 57  third_party_3_form          17 non-null     object \n",
      " 58  third_party_3_year_birth    6 non-null      float64\n",
      " 59  third_party_3_country       17 non-null     object \n",
      " 60  third_party_3_vehicle_id    14 non-null     object \n",
      " 61  third_party_3_expert_id     0 non-null      float64\n",
      " 62  repair_id                   15319 non-null  object \n",
      " 63  repair_postal_code          15307 non-null  float64\n",
      " 64  repair_form                 15319 non-null  object \n",
      " 65  repair_year_birth           54 non-null     float64\n",
      " 66  repair_country              15319 non-null  object \n",
      " 67  repair_sla                  33277 non-null  object \n",
      " 68  policy_date_start           27811 non-null  float64\n",
      " 69  policy_date_next_expiry     27811 non-null  float64\n",
      " 70  policy_date_last_renewed    27811 non-null  float64\n",
      " 71  policy_num_changes          33277 non-null  int64  \n",
      " 72  policy_num_claims           33277 non-null  int64  \n",
      " 73  policy_premium_100          27805 non-null  float64\n",
      " 74  policy_coverage_1000        16275 non-null  float64\n",
      " 75  policy_coverage_type        33277 non-null  object \n",
      " 76  fraud                       33277 non-null  object \n",
      "dtypes: float64(25), int64(8), object(44)\n",
      "memory usage: 19.5+ MB\n"
     ]
    }
   ],
   "source": [
    "df.info()"
   ]
  },
  {
   "cell_type": "code",
   "execution_count": null,
   "metadata": {
    "id": "GW3eXwv82TX9",
    "outputId": "8b2b478e-03f8-479a-d567-d04a997c0028"
   },
   "outputs": [
    {
     "data": {
      "text/html": [
       "<div>\n",
       "<style scoped>\n",
       "    .dataframe tbody tr th:only-of-type {\n",
       "        vertical-align: middle;\n",
       "    }\n",
       "\n",
       "    .dataframe tbody tr th {\n",
       "        vertical-align: top;\n",
       "    }\n",
       "\n",
       "    .dataframe thead th {\n",
       "        text-align: right;\n",
       "    }\n",
       "</style>\n",
       "<table border=\"1\" class=\"dataframe\">\n",
       "  <thead>\n",
       "    <tr style=\"text-align: right;\">\n",
       "      <th></th>\n",
       "      <th>claim_amount</th>\n",
       "      <th>claim_date_registered</th>\n",
       "      <th>claim_date_occured</th>\n",
       "      <th>claim_time_occured</th>\n",
       "      <th>claim_postal_code</th>\n",
       "      <th>claim_cause</th>\n",
       "      <th>claim_liable</th>\n",
       "      <th>claim_num_injured</th>\n",
       "      <th>claim_num_third_parties</th>\n",
       "      <th>claim_num_vehicles</th>\n",
       "      <th>...</th>\n",
       "      <th>repair_sla</th>\n",
       "      <th>policy_date_start</th>\n",
       "      <th>policy_date_next_expiry</th>\n",
       "      <th>policy_date_last_renewed</th>\n",
       "      <th>policy_num_changes</th>\n",
       "      <th>policy_num_claims</th>\n",
       "      <th>policy_premium_100</th>\n",
       "      <th>policy_coverage_1000</th>\n",
       "      <th>policy_coverage_type</th>\n",
       "      <th>fraud</th>\n",
       "    </tr>\n",
       "  </thead>\n",
       "  <tbody>\n",
       "    <tr>\n",
       "      <th>11296</th>\n",
       "      <td>3228,63</td>\n",
       "      <td>20170305</td>\n",
       "      <td>20170304</td>\n",
       "      <td>1600.0</td>\n",
       "      <td>3940</td>\n",
       "      <td>traffic accident</td>\n",
       "      <td>N</td>\n",
       "      <td>0</td>\n",
       "      <td>1</td>\n",
       "      <td>3</td>\n",
       "      <td>...</td>\n",
       "      <td>Y</td>\n",
       "      <td>201205.0</td>\n",
       "      <td>201711.0</td>\n",
       "      <td>201711.0</td>\n",
       "      <td>0</td>\n",
       "      <td>2</td>\n",
       "      <td>13.0</td>\n",
       "      <td>26.0</td>\n",
       "      <td>#111110001</td>\n",
       "      <td>N</td>\n",
       "    </tr>\n",
       "    <tr>\n",
       "      <th>9209</th>\n",
       "      <td>3645,00</td>\n",
       "      <td>20170520</td>\n",
       "      <td>20170516</td>\n",
       "      <td>NaN</td>\n",
       "      <td>7784</td>\n",
       "      <td>traffic accident</td>\n",
       "      <td>Y</td>\n",
       "      <td>0</td>\n",
       "      <td>1</td>\n",
       "      <td>4</td>\n",
       "      <td>...</td>\n",
       "      <td>Y</td>\n",
       "      <td>201405.0</td>\n",
       "      <td>201705.0</td>\n",
       "      <td>201705.0</td>\n",
       "      <td>2</td>\n",
       "      <td>2</td>\n",
       "      <td>8.0</td>\n",
       "      <td>15.0</td>\n",
       "      <td>#111110011</td>\n",
       "      <td>Y</td>\n",
       "    </tr>\n",
       "    <tr>\n",
       "      <th>2053</th>\n",
       "      <td>2932,19</td>\n",
       "      <td>20170716</td>\n",
       "      <td>20170712</td>\n",
       "      <td>NaN</td>\n",
       "      <td>8840</td>\n",
       "      <td>traffic accident</td>\n",
       "      <td>N</td>\n",
       "      <td>1</td>\n",
       "      <td>1</td>\n",
       "      <td>1</td>\n",
       "      <td>...</td>\n",
       "      <td>N</td>\n",
       "      <td>200608.0</td>\n",
       "      <td>201708.0</td>\n",
       "      <td>201708.0</td>\n",
       "      <td>1</td>\n",
       "      <td>10</td>\n",
       "      <td>12.0</td>\n",
       "      <td>10.0</td>\n",
       "      <td>#111110000</td>\n",
       "      <td>N</td>\n",
       "    </tr>\n",
       "    <tr>\n",
       "      <th>5631</th>\n",
       "      <td>3264,66</td>\n",
       "      <td>20170605</td>\n",
       "      <td>20170531</td>\n",
       "      <td>NaN</td>\n",
       "      <td>7180</td>\n",
       "      <td>traffic accident</td>\n",
       "      <td>Y</td>\n",
       "      <td>0</td>\n",
       "      <td>1</td>\n",
       "      <td>3</td>\n",
       "      <td>...</td>\n",
       "      <td>Y</td>\n",
       "      <td>201009.0</td>\n",
       "      <td>201709.0</td>\n",
       "      <td>201709.0</td>\n",
       "      <td>0</td>\n",
       "      <td>6</td>\n",
       "      <td>19.0</td>\n",
       "      <td>39.0</td>\n",
       "      <td>#111110000</td>\n",
       "      <td>N</td>\n",
       "    </tr>\n",
       "    <tr>\n",
       "      <th>26963</th>\n",
       "      <td>2511,64</td>\n",
       "      <td>20170121</td>\n",
       "      <td>20170116</td>\n",
       "      <td>NaN</td>\n",
       "      <td>3630</td>\n",
       "      <td>traffic accident</td>\n",
       "      <td>N</td>\n",
       "      <td>0</td>\n",
       "      <td>2</td>\n",
       "      <td>4</td>\n",
       "      <td>...</td>\n",
       "      <td>Y</td>\n",
       "      <td>NaN</td>\n",
       "      <td>NaN</td>\n",
       "      <td>NaN</td>\n",
       "      <td>0</td>\n",
       "      <td>0</td>\n",
       "      <td>NaN</td>\n",
       "      <td>NaN</td>\n",
       "      <td>#000000000</td>\n",
       "      <td>N</td>\n",
       "    </tr>\n",
       "  </tbody>\n",
       "</table>\n",
       "<p>5 rows × 77 columns</p>\n",
       "</div>"
      ],
      "text/plain": [
       "      claim_amount  claim_date_registered  claim_date_occured  \\\n",
       "11296      3228,63               20170305            20170304   \n",
       "9209       3645,00               20170520            20170516   \n",
       "2053       2932,19               20170716            20170712   \n",
       "5631       3264,66               20170605            20170531   \n",
       "26963      2511,64               20170121            20170116   \n",
       "\n",
       "       claim_time_occured  claim_postal_code       claim_cause claim_liable  \\\n",
       "11296              1600.0               3940  traffic accident            N   \n",
       "9209                  NaN               7784  traffic accident            Y   \n",
       "2053                  NaN               8840  traffic accident            N   \n",
       "5631                  NaN               7180  traffic accident            Y   \n",
       "26963                 NaN               3630  traffic accident            N   \n",
       "\n",
       "       claim_num_injured  claim_num_third_parties  claim_num_vehicles  ...  \\\n",
       "11296                  0                        1                   3  ...   \n",
       "9209                   0                        1                   4  ...   \n",
       "2053                   1                        1                   1  ...   \n",
       "5631                   0                        1                   3  ...   \n",
       "26963                  0                        2                   4  ...   \n",
       "\n",
       "      repair_sla policy_date_start  policy_date_next_expiry  \\\n",
       "11296          Y          201205.0                 201711.0   \n",
       "9209           Y          201405.0                 201705.0   \n",
       "2053           N          200608.0                 201708.0   \n",
       "5631           Y          201009.0                 201709.0   \n",
       "26963          Y               NaN                      NaN   \n",
       "\n",
       "      policy_date_last_renewed policy_num_changes policy_num_claims  \\\n",
       "11296                 201711.0                  0                 2   \n",
       "9209                  201705.0                  2                 2   \n",
       "2053                  201708.0                  1                10   \n",
       "5631                  201709.0                  0                 6   \n",
       "26963                      NaN                  0                 0   \n",
       "\n",
       "       policy_premium_100  policy_coverage_1000  policy_coverage_type  fraud  \n",
       "11296                13.0                  26.0            #111110001      N  \n",
       "9209                  8.0                  15.0            #111110011      Y  \n",
       "2053                 12.0                  10.0            #111110000      N  \n",
       "5631                 19.0                  39.0            #111110000      N  \n",
       "26963                 NaN                   NaN            #000000000      N  \n",
       "\n",
       "[5 rows x 77 columns]"
      ]
     },
     "execution_count": 8,
     "metadata": {
      "tags": []
     },
     "output_type": "execute_result"
    }
   ],
   "source": [
    "df.sample(5)"
   ]
  },
  {
   "cell_type": "code",
   "execution_count": null,
   "metadata": {
    "id": "CpTxn5ng2TX9",
    "outputId": "8c3eac0b-c3b1-416a-f16a-93d2553d1353"
   },
   "outputs": [
    {
     "data": {
      "text/plain": [
       "claim_amount                  30517\n",
       "claim_date_registered           326\n",
       "claim_date_occured              711\n",
       "claim_time_occured               49\n",
       "claim_postal_code              1023\n",
       "claim_cause                       8\n",
       "claim_liable                      2\n",
       "claim_num_injured                 6\n",
       "claim_num_third_parties           6\n",
       "claim_num_vehicles                6\n",
       "claim_police                      2\n",
       "claim_alcohol                     2\n",
       "claim_language                    2\n",
       "claim_vehicle_id              25379\n",
       "claim_vehicle_brand              35\n",
       "claim_vehicle_type                2\n",
       "claim_vehicle_date_inuse        367\n",
       "claim_vehicle_cyl               324\n",
       "claim_vehicle_load              231\n",
       "claim_vehicle_fuel_type           2\n",
       "claim_vehicle_power             194\n",
       "policy_holder_id              19838\n",
       "policy_holder_postal_code      1044\n",
       "policy_holder_form                2\n",
       "policy_holder_year_birth         85\n",
       "policy_holder_country             2\n",
       "policy_holder_expert_id          63\n",
       "driver_id                     18820\n",
       "driver_postal_code             1037\n",
       "driver_form                       2\n",
       "driver_year_birth                83\n",
       "driver_country                    2\n",
       "driver_expert_id                 66\n",
       "driver_injured                    2\n",
       "driver_vehicle_id             25385\n",
       "third_party_1_id              18702\n",
       "third_party_1_postal_code      1036\n",
       "third_party_1_injured             2\n",
       "third_party_1_vehicle_type        8\n",
       "third_party_1_form                3\n",
       "third_party_1_year_birth         95\n",
       "third_party_1_country             2\n",
       "third_party_1_vehicle_id      21587\n",
       "third_party_1_expert_id          65\n",
       "third_party_2_id               2301\n",
       "third_party_2_postal_code       645\n",
       "third_party_2_injured             2\n",
       "third_party_2_vehicle_type        8\n",
       "third_party_2_form                5\n",
       "third_party_2_year_birth         86\n",
       "third_party_2_country             2\n",
       "third_party_2_vehicle_id       1707\n",
       "third_party_2_expert_id          14\n",
       "third_party_3_id                 17\n",
       "third_party_3_postal_code        17\n",
       "third_party_3_injured             2\n",
       "third_party_3_vehicle_type        3\n",
       "third_party_3_form                4\n",
       "third_party_3_year_birth          6\n",
       "third_party_3_country             1\n",
       "third_party_3_vehicle_id         14\n",
       "third_party_3_expert_id           0\n",
       "repair_id                      3697\n",
       "repair_postal_code              696\n",
       "repair_form                       3\n",
       "repair_year_birth                30\n",
       "repair_country                    2\n",
       "repair_sla                        2\n",
       "policy_date_start               354\n",
       "policy_date_next_expiry          71\n",
       "policy_date_last_renewed         71\n",
       "policy_num_changes               11\n",
       "policy_num_claims                11\n",
       "policy_premium_100               39\n",
       "policy_coverage_1000            106\n",
       "policy_coverage_type             70\n",
       "fraud                             2\n",
       "dtype: int64"
      ]
     },
     "execution_count": 9,
     "metadata": {
      "tags": []
     },
     "output_type": "execute_result"
    }
   ],
   "source": [
    "pd.set_option('display.max_columns', 500)\n",
    "pd.set_option('display.max_rows', 500)\n",
    "df.nunique()"
   ]
  },
  {
   "cell_type": "markdown",
   "metadata": {
    "id": "K-8dULj72TX-"
   },
   "source": [
    "## 2.3 Analysis & adaptation of individual features"
   ]
  },
  {
   "cell_type": "code",
   "execution_count": null,
   "metadata": {
    "id": "OnlxEsGM2TX-"
   },
   "outputs": [],
   "source": [
    "%matplotlib inline\n",
    "import matplotlib.pyplot as plt\n",
    "import seaborn as sns"
   ]
  },
  {
   "cell_type": "markdown",
   "metadata": {
    "id": "3zrOY4_R2TX_"
   },
   "source": [
    "### 'fraud'"
   ]
  },
  {
   "cell_type": "code",
   "execution_count": null,
   "metadata": {
    "colab": {
     "base_uri": "https://localhost:8080/",
     "height": 235
    },
    "id": "Hp7CVN5M2TX_",
    "outputId": "b3a1ba67-c195-4739-b99d-d27d77fa764f"
   },
   "outputs": [
    {
     "ename": "NameError",
     "evalue": "ignored",
     "output_type": "error",
     "traceback": [
      "\u001b[0;31m---------------------------------------------------------------------------\u001b[0m",
      "\u001b[0;31mNameError\u001b[0m                                 Traceback (most recent call last)",
      "\u001b[0;32m<ipython-input-1-cfa6e0554cb7>\u001b[0m in \u001b[0;36m<module>\u001b[0;34m()\u001b[0m\n\u001b[1;32m      1\u001b[0m \u001b[0;31m#Correct format object\u001b[0m\u001b[0;34m\u001b[0m\u001b[0;34m\u001b[0m\u001b[0;34m\u001b[0m\u001b[0m\n\u001b[1;32m      2\u001b[0m \u001b[0;34m\u001b[0m\u001b[0m\n\u001b[0;32m----> 3\u001b[0;31m \u001b[0mprint\u001b[0m\u001b[0;34m(\u001b[0m\u001b[0mdf\u001b[0m\u001b[0;34m[\u001b[0m\u001b[0;34m'fraud'\u001b[0m\u001b[0;34m]\u001b[0m\u001b[0;34m.\u001b[0m\u001b[0mvalue_counts\u001b[0m\u001b[0;34m(\u001b[0m\u001b[0;34m)\u001b[0m\u001b[0;34m)\u001b[0m\u001b[0;34m\u001b[0m\u001b[0;34m\u001b[0m\u001b[0m\n\u001b[0m\u001b[1;32m      4\u001b[0m \u001b[0;34m\u001b[0m\u001b[0m\n\u001b[1;32m      5\u001b[0m \u001b[0;31m#Visual representation of class distribution\u001b[0m\u001b[0;34m\u001b[0m\u001b[0;34m\u001b[0m\u001b[0;34m\u001b[0m\u001b[0m\n",
      "\u001b[0;31mNameError\u001b[0m: name 'df' is not defined"
     ]
    }
   ],
   "source": [
    "#Correct format object\n",
    "\n",
    "print(df['fraud'].value_counts())\n",
    "\n",
    "#Visual representation of class distribution\n",
    "ax = sns.countplot(x='fraud', data=df, hue='fraud')"
   ]
  },
  {
   "cell_type": "markdown",
   "metadata": {
    "id": "oZcIq-LU2TYA"
   },
   "source": [
    "Interpretation: highly imbalanced data that will have to be handled"
   ]
  },
  {
   "cell_type": "markdown",
   "metadata": {
    "id": "f1QNfjRK2TYA"
   },
   "source": [
    "### 'claim_amount'"
   ]
  },
  {
   "cell_type": "code",
   "execution_count": null,
   "metadata": {
    "id": "TeKISKLW2TYA"
   },
   "outputs": [],
   "source": [
    "#Claim amount is in object type\n",
    "    #To facilitate analysis: transform into float\n",
    "df['claim_amount'] = pd.to_numeric(df['claim_amount'].str.replace(',', '.'), errors='coerce')"
   ]
  },
  {
   "cell_type": "code",
   "execution_count": null,
   "metadata": {
    "id": "q-UiS4K52TYB",
    "outputId": "bdbab872-3799-49d3-a38e-b6d0fbc5fe24"
   },
   "outputs": [
    {
     "name": "stdout",
     "output_type": "stream",
     "text": [
      "count    33277.000000\n",
      "mean      2114.376224\n",
      "std       1943.846328\n",
      "min         35.000000\n",
      "25%       1065.890000\n",
      "50%       1584.710000\n",
      "75%       2457.670000\n",
      "max      16901.000000\n",
      "Name: claim_amount, dtype: float64\n"
     ]
    },
    {
     "data": {
      "text/html": [
       "<div>\n",
       "<style scoped>\n",
       "    .dataframe tbody tr th:only-of-type {\n",
       "        vertical-align: middle;\n",
       "    }\n",
       "\n",
       "    .dataframe tbody tr th {\n",
       "        vertical-align: top;\n",
       "    }\n",
       "\n",
       "    .dataframe thead th {\n",
       "        text-align: right;\n",
       "    }\n",
       "</style>\n",
       "<table border=\"1\" class=\"dataframe\">\n",
       "  <thead>\n",
       "    <tr style=\"text-align: right;\">\n",
       "      <th></th>\n",
       "      <th>claim_amount</th>\n",
       "    </tr>\n",
       "    <tr>\n",
       "      <th>fraud</th>\n",
       "      <th></th>\n",
       "    </tr>\n",
       "  </thead>\n",
       "  <tbody>\n",
       "    <tr>\n",
       "      <th>N</th>\n",
       "      <td>2092.443175</td>\n",
       "    </tr>\n",
       "    <tr>\n",
       "      <th>Y</th>\n",
       "      <td>6192.814382</td>\n",
       "    </tr>\n",
       "  </tbody>\n",
       "</table>\n",
       "</div>"
      ],
      "text/plain": [
       "       claim_amount\n",
       "fraud              \n",
       "N       2092.443175\n",
       "Y       6192.814382"
      ]
     },
     "execution_count": 13,
     "metadata": {
      "tags": []
     },
     "output_type": "execute_result"
    }
   ],
   "source": [
    "print(df['claim_amount'].describe())\n",
    "df.pivot_table(values=['claim_amount'], index=['fraud'], aggfunc='mean')"
   ]
  },
  {
   "cell_type": "markdown",
   "metadata": {
    "id": "GyDSjPcP2TYB"
   },
   "source": [
    "Fraudulent cases have rather higher claim_amount"
   ]
  },
  {
   "cell_type": "code",
   "execution_count": null,
   "metadata": {
    "id": "77vA2A1m2TYB",
    "outputId": "5510657d-4d45-4ffa-b639-0797fa3ababf"
   },
   "outputs": [
    {
     "data": {
      "text/plain": [
       "<matplotlib.axes._subplots.AxesSubplot at 0x229db83c6d0>"
      ]
     },
     "execution_count": 14,
     "metadata": {
      "tags": []
     },
     "output_type": "execute_result"
    },
    {
     "data": {
      "image/png": "[encoded data removed]",
      "text/plain": [
       "<Figure size 432x288 with 1 Axes>"
      ]
     },
     "metadata": {
      "needs_background": "light",
      "tags": []
     },
     "output_type": "display_data"
    }
   ],
   "source": [
    "sns.distplot(df['claim_amount'])"
   ]
  },
  {
   "cell_type": "markdown",
   "metadata": {
    "id": "U_k-Lo9v2TYC"
   },
   "source": [
    "### 'claim_date_registered' & 'claim_date_occured'"
   ]
  },
  {
   "cell_type": "code",
   "execution_count": null,
   "metadata": {
    "id": "1b6PlfXM2TYC",
    "outputId": "a0f43e30-20b6-45d7-c594-ef860bd65ef3"
   },
   "outputs": [
    {
     "name": "stdout",
     "output_type": "stream",
     "text": [
      "BEFORE:\n",
      "       claim_date_registered  claim_date_occured\n",
      "26014               20170616            20170614\n",
      "3419                20170505            20170426\n",
      "\n",
      "AFTER:\n",
      "      claim_date_registered claim_date_occured\n",
      "29817            2017-04-15         2017-03-26\n",
      "2794             2017-05-22         2017-05-20\n",
      "\n",
      "count                   33277\n",
      "unique                    326\n",
      "top       2017-06-09 00:00:00\n",
      "freq                      210\n",
      "first     2017-01-01 00:00:00\n",
      "last      2017-12-31 00:00:00\n",
      "Name: claim_date_registered, dtype: object\n",
      "\n",
      "count                   33277\n",
      "unique                    711\n",
      "top       2017-06-05 00:00:00\n",
      "freq                      248\n",
      "first     2010-03-16 00:00:00\n",
      "last      2017-12-30 00:00:00\n",
      "Name: claim_date_occured, dtype: object\n"
     ]
    }
   ],
   "source": [
    "#Their format is int64: should be transformed into dates\n",
    "\n",
    "#Their initial format: float\n",
    "print(\"BEFORE:\")\n",
    "print(df[['claim_date_registered', 'claim_date_occured']].sample(2))\n",
    "print(\"\")\n",
    "\n",
    "#Transormation to date\n",
    "df['claim_date_registered']= pd.to_datetime(df['claim_date_registered'].astype(str)).values\n",
    "df['claim_date_occured']= pd.to_datetime(df['claim_date_occured'].astype(str)).values\n",
    "\n",
    "#Their new format\n",
    "print(\"AFTER:\")\n",
    "print(df[['claim_date_registered', 'claim_date_occured']].sample(2))\n",
    "print(\"\")\n",
    "\n",
    "#The statistics on these attributes\n",
    "print(df['claim_date_registered'].describe())\n",
    "print(\"\")\n",
    "print(df['claim_date_occured'].describe())"
   ]
  },
  {
   "cell_type": "code",
   "execution_count": null,
   "metadata": {
    "id": "GJXQbyw72TYD",
    "outputId": "7b4ac661-e66f-44df-f746-0c9da368d43a"
   },
   "outputs": [
    {
     "data": {
      "image/png": "[encoded data removed]",
      "text/plain": [
       "<Figure size 1296x432 with 1 Axes>"
      ]
     },
     "metadata": {
      "tags": []
     },
     "output_type": "display_data"
    }
   ],
   "source": [
    "#Visualise the amounts of the claim in the time\n",
    "    #Not adapted visualisation to large amount of data: to change\n",
    "plt.style.use('fivethirtyeight')\n",
    "fig = plt.figure(figsize=(18,6))\n",
    "ax = df.groupby('claim_date_occured').claim_amount.count().plot.bar(ylim=0)\n",
    "ax.set_ylabel('Claim amount')\n",
    "plt.show()"
   ]
  },
  {
   "cell_type": "markdown",
   "metadata": {
    "id": "Hd9v7mHk2TYD"
   },
   "source": [
    "### 'claim_time_occurred'"
   ]
  },
  {
   "cell_type": "code",
   "execution_count": null,
   "metadata": {
    "id": "_6c-IMl02TYD",
    "outputId": "105f8f10-f9ae-47e4-ce87-b4b1604a70d6"
   },
   "outputs": [
    {
     "name": "stdout",
     "output_type": "stream",
     "text": [
      "             claim_cause claim_liable claim_police claim_alcohol  \\\n",
      "count              29371        29371        29371           440   \n",
      "unique                 8            2            2             2   \n",
      "top     traffic accident            N            N             N   \n",
      "freq               22749        17816        25355           389   \n",
      "\n",
      "                                   claim_vehicle_id claim_vehicle_brand  \\\n",
      "count                                         23606               23748   \n",
      "unique                                        22222                  35   \n",
      "top     OGJhN2MzY2I4YmU4ZGRjNTU0ZTk3YjQwMDA2M2IxMmQ          VOLKSWAGEN   \n",
      "freq                                              4                2506   \n",
      "\n",
      "       claim_vehicle_type                             policy_holder_id  \\\n",
      "count               29279                                        29371   \n",
      "unique                  2                                        17852   \n",
      "top                   car  MTNlMmVhMzM4ZWMzNDIyMTY2OTJhN2EwY2E1YmI2N2I   \n",
      "freq                27265                                           75   \n",
      "\n",
      "       policy_holder_form policy_holder_country  \\\n",
      "count               29371                 29371   \n",
      "unique                  2                     2   \n",
      "top                     M                     B   \n",
      "freq                18673                 29320   \n",
      "\n",
      "                            policy_holder_expert_id  \\\n",
      "count                                          4904   \n",
      "unique                                           63   \n",
      "top     YmNkZjNiZTQ1MmYzNGQ5YTRmNjI0N2U1YzdiOWUzYzE   \n",
      "freq                                            686   \n",
      "\n",
      "                                          driver_id driver_form  \\\n",
      "count                                         29371       29371   \n",
      "unique                                        16833           2   \n",
      "top     ZDEyMDQzM2I3MDE5MWMyODgwNThmNDkyZDczMjQ1ZGY           M   \n",
      "freq                                            268       21461   \n",
      "\n",
      "       driver_country                             driver_expert_id  \\\n",
      "count           29371                                         7018   \n",
      "unique              2                                           66   \n",
      "top                 B  YmNkZjNiZTQ1MmYzNGQ5YTRmNjI0N2U1YzdiOWUzYzE   \n",
      "freq            29330                                          995   \n",
      "\n",
      "       driver_injured                            driver_vehicle_id  \\\n",
      "count           29371                                        23613   \n",
      "unique              2                                        22229   \n",
      "top                 N  OGM2NWY5MzQ3ZDRhM2FmYjlmMmJjYjg3YWUyODRmYjg   \n",
      "freq            29064                                            4   \n",
      "\n",
      "                                   third_party_1_id third_party_1_injured  \\\n",
      "count                                         21775                 21775   \n",
      "unique                                        16533                     2   \n",
      "top     NTg0ODNiYTYwODI0MGU0MzRlODM2MGNkYWI5NGNkODY                     N   \n",
      "freq                                             63                 20790   \n",
      "\n",
      "       third_party_1_vehicle_type third_party_1_form third_party_1_country  \\\n",
      "count                       20560              21775                 21775   \n",
      "unique                          8                  3                     2   \n",
      "top                           car                  C                     B   \n",
      "freq                        18429               9068                 21240   \n",
      "\n",
      "                           third_party_1_vehicle_id  \\\n",
      "count                                         19070   \n",
      "unique                                        18694   \n",
      "top     NTA1OGYxYWY4Mzg4NjMzZjYwOWNhZGI3NWE3NWRjOWQ   \n",
      "freq                                             94   \n",
      "\n",
      "                            third_party_1_expert_id  \\\n",
      "count                                           327   \n",
      "unique                                           64   \n",
      "top     YmNkZjNiZTQ1MmYzNGQ5YTRmNjI0N2U1YzdiOWUzYzE   \n",
      "freq                                             30   \n",
      "\n",
      "                                   third_party_2_id third_party_2_injured  \\\n",
      "count                                          2147                  2147   \n",
      "unique                                         1954                     2   \n",
      "top     NTg0ODNiYTYwODI0MGU0MzRlODM2MGNkYWI5NGNkODY                     N   \n",
      "freq                                             12                  1779   \n",
      "\n",
      "       third_party_2_vehicle_type third_party_2_form third_party_2_country  \\\n",
      "count                        1763               2147                  2147   \n",
      "unique                          8                  5                     2   \n",
      "top                           car                  M                     B   \n",
      "freq                         1370                883                  2081   \n",
      "\n",
      "                           third_party_2_vehicle_id  \\\n",
      "count                                          1427   \n",
      "unique                                         1411   \n",
      "top     NTA1OGYxYWY4Mzg4NjMzZjYwOWNhZGI3NWE3NWRjOWQ   \n",
      "freq                                              7   \n",
      "\n",
      "                            third_party_2_expert_id  \\\n",
      "count                                            13   \n",
      "unique                                           13   \n",
      "top     OGEwMzgzNzBiODVhZDRmZTUyMWFhZjkzMzU0NzdkZTg   \n",
      "freq                                              1   \n",
      "\n",
      "                                   third_party_3_id third_party_3_injured  \\\n",
      "count                                            14                    14   \n",
      "unique                                           14                     2   \n",
      "top     MGNkZmY1ZjYxMzg0ZDE2Njk3ZWI4MTQ4MWQzNTNiYzk                     N   \n",
      "freq                                              1                    12   \n",
      "\n",
      "       third_party_3_vehicle_type third_party_3_form third_party_3_country  \\\n",
      "count                          13                 14                    14   \n",
      "unique                          3                  4                     1   \n",
      "top                           car                  U                     B   \n",
      "freq                           11                  7                    14   \n",
      "\n",
      "                           third_party_3_vehicle_id  \\\n",
      "count                                            11   \n",
      "unique                                           11   \n",
      "top     MWZkMGVhNDZmYjgxMTlhYjVlYmUzOTRiYjg4M2E4ZTU   \n",
      "freq                                              1   \n",
      "\n",
      "                                          repair_id repair_form  \\\n",
      "count                                         13158       13158   \n",
      "unique                                         3246           3   \n",
      "top     NzRjYTk0N2NiMTU4ZWYwMTdiM2Y1NTZiNjFiM2QxY2Y           C   \n",
      "freq                                            203       12942   \n",
      "\n",
      "       repair_country repair_sla policy_coverage_type  fraud  \n",
      "count           13158      29371                29371  29371  \n",
      "unique              2          2                   69      2  \n",
      "top                 B          N           #000110000      N  \n",
      "freq            13148      19093                 6253  29226  \n",
      "**********************************************************************\n"
     ]
    }
   ],
   "source": [
    "#Float: to transform?\n",
    "\n",
    "#Analysis of missing values (many)\n",
    "print(df[df['claim_time_occured'].isnull()].describe(include=['object']))\n",
    "print(70*\"*\")\n",
    "#145 cases among these claims without time were fraudulent (over the 178 in the data set)"
   ]
  },
  {
   "cell_type": "markdown",
   "metadata": {
    "id": "kvPYmF0_2TYE"
   },
   "source": [
    "When this attribute's values are not provided -> often observe fraud"
   ]
  },
  {
   "cell_type": "markdown",
   "metadata": {
    "id": "XkEWhlsT2TYE"
   },
   "source": [
    "### 'claim_postal_code' & policy_holder_postal_code & driver_postal_code"
   ]
  },
  {
   "cell_type": "code",
   "execution_count": null,
   "metadata": {
    "id": "_9ZXglw-2TYE",
    "outputId": "39485c0c-0748-42f7-c432-3111ff701453"
   },
   "outputs": [
    {
     "name": "stdout",
     "output_type": "stream",
     "text": [
      "      unique_values  counts\n",
      "0              1210    1573\n",
      "1              1000     715\n",
      "2              2000     600\n",
      "3              9000     579\n",
      "4              3500     412\n",
      "...             ...     ...\n",
      "1018           4728       1\n",
      "1019           6982       1\n",
      "1020           6630       1\n",
      "1021           4263       1\n",
      "1022           5573       1\n",
      "\n",
      "[1023 rows x 2 columns]\n",
      "[1210, 1000, 2000, 9000]\n",
      "4\n"
     ]
    }
   ],
   "source": [
    "#claim_postal_code as Int and the 2 others as float -> should change into int ??\n",
    "\n",
    "PostalCode=df['claim_postal_code']\n",
    "PC = PostalCode.value_counts().rename_axis('unique_values').reset_index(name='counts')\n",
    "print(PC)\n",
    "\n",
    "\n",
    "FrequentPostalCodes=[]\n",
    "for i in range(0, PC.shape[0]):\n",
    "    if PC['counts'].iloc[i]>500:\n",
    "        FrequentPostalCodes.append(PC['unique_values'].iloc[i])\n",
    "print(FrequentPostalCodes)\n",
    "print(len(FrequentPostalCodes))"
   ]
  },
  {
   "cell_type": "code",
   "execution_count": null,
   "metadata": {
    "id": "3Bdt7huL2TYF",
    "outputId": "f8c59453-4269-4509-ea9e-4b083f93041b"
   },
   "outputs": [
    {
     "ename": "NameError",
     "evalue": "name 'df_high' is not defined",
     "output_type": "error",
     "traceback": [
      "\u001b[1;31m---------------------------------------------------------------------------\u001b[0m",
      "\u001b[1;31mNameError\u001b[0m                                 Traceback (most recent call last)",
      "\u001b[1;32m<ipython-input-19-51dab4c6770d>\u001b[0m in \u001b[0;36m<module>\u001b[1;34m\u001b[0m\n\u001b[0;32m      2\u001b[0m \u001b[0mplt\u001b[0m\u001b[1;33m.\u001b[0m\u001b[0mstyle\u001b[0m\u001b[1;33m.\u001b[0m\u001b[0muse\u001b[0m\u001b[1;33m(\u001b[0m\u001b[1;34m'fivethirtyeight'\u001b[0m\u001b[1;33m)\u001b[0m\u001b[1;33m\u001b[0m\u001b[1;33m\u001b[0m\u001b[0m\n\u001b[0;32m      3\u001b[0m \u001b[0mfig\u001b[0m \u001b[1;33m=\u001b[0m \u001b[0mplt\u001b[0m\u001b[1;33m.\u001b[0m\u001b[0mfigure\u001b[0m\u001b[1;33m(\u001b[0m\u001b[0mfigsize\u001b[0m\u001b[1;33m=\u001b[0m\u001b[1;33m(\u001b[0m\u001b[1;36m10\u001b[0m\u001b[1;33m,\u001b[0m\u001b[1;36m6\u001b[0m\u001b[1;33m)\u001b[0m\u001b[1;33m)\u001b[0m\u001b[1;33m\u001b[0m\u001b[1;33m\u001b[0m\u001b[0m\n\u001b[1;32m----> 4\u001b[1;33m \u001b[0max\u001b[0m \u001b[1;33m=\u001b[0m \u001b[0mdf_high\u001b[0m\u001b[1;33m.\u001b[0m\u001b[0mgroupby\u001b[0m\u001b[1;33m(\u001b[0m\u001b[1;34m'claim_postal_code'\u001b[0m\u001b[1;33m)\u001b[0m\u001b[1;33m.\u001b[0m\u001b[0mfraud\u001b[0m\u001b[1;33m.\u001b[0m\u001b[0mcount\u001b[0m\u001b[1;33m(\u001b[0m\u001b[1;33m)\u001b[0m\u001b[1;33m.\u001b[0m\u001b[0mplot\u001b[0m\u001b[1;33m.\u001b[0m\u001b[0mbar\u001b[0m\u001b[1;33m(\u001b[0m\u001b[0mylim\u001b[0m\u001b[1;33m=\u001b[0m\u001b[1;36m0\u001b[0m\u001b[1;33m)\u001b[0m\u001b[1;33m\u001b[0m\u001b[1;33m\u001b[0m\u001b[0m\n\u001b[0m\u001b[0;32m      5\u001b[0m \u001b[0max\u001b[0m\u001b[1;33m.\u001b[0m\u001b[0mset_ylabel\u001b[0m\u001b[1;33m(\u001b[0m\u001b[1;34m'Fraud'\u001b[0m\u001b[1;33m)\u001b[0m\u001b[1;33m\u001b[0m\u001b[1;33m\u001b[0m\u001b[0m\n\u001b[0;32m      6\u001b[0m \u001b[0mplt\u001b[0m\u001b[1;33m.\u001b[0m\u001b[0mshow\u001b[0m\u001b[1;33m(\u001b[0m\u001b[1;33m)\u001b[0m\u001b[1;33m\u001b[0m\u001b[1;33m\u001b[0m\u001b[0m\n",
      "\u001b[1;31mNameError\u001b[0m: name 'df_high' is not defined"
     ]
    },
    {
     "data": {
      "text/plain": [
       "<Figure size 720x432 with 0 Axes>"
      ]
     },
     "metadata": {
      "tags": []
     },
     "output_type": "display_data"
    }
   ],
   "source": [
    "#Interpretation ?? over all reported cases rather than fraudulent cases ?\n",
    "plt.style.use('fivethirtyeight')\n",
    "fig = plt.figure(figsize=(10,6))\n",
    "ax = df_high.groupby('claim_postal_code').fraud.count().plot.bar(ylim=0)\n",
    "ax.set_ylabel('Fraud')\n",
    "plt.show()"
   ]
  },
  {
   "cell_type": "markdown",
   "metadata": {
    "id": "MTrIhaAp2TYF"
   },
   "source": [
    "### 'claim_cause'"
   ]
  },
  {
   "cell_type": "code",
   "execution_count": null,
   "metadata": {
    "id": "jR05St5y2TYG",
    "outputId": "033ca4b3-2644-4e1a-c4a5-c7a1cc623686"
   },
   "outputs": [
    {
     "name": "stdout",
     "output_type": "stream",
     "text": [
      "fraud                 N   Y\n",
      "claim_cause                \n",
      "animal              212   8\n",
      "fire                 21   6\n",
      "other              4425  30\n",
      "theft               314  49\n",
      "traffic accident  26027  81\n",
      "vandalism           126   0\n",
      "weather             431   3\n",
      "windows            1543   1\n"
     ]
    },
    {
     "data": {
      "image/png": "[encoded data removed]",
      "text/plain": [
       "<Figure size 1080x360 with 1 Axes>"
      ]
     },
     "metadata": {
      "tags": []
     },
     "output_type": "display_data"
    }
   ],
   "source": [
    "#Categorical variable (object)\n",
    "\n",
    "#Link fraud-cause of incident\n",
    "print(pd.crosstab(df['claim_cause'], df['fraud']))\n",
    "fig = plt.figure(figsize=(15,5))\n",
    "ax = sns.countplot(x='claim_cause', data=df)"
   ]
  },
  {
   "cell_type": "markdown",
   "metadata": {
    "id": "ME73LVFF2TYG"
   },
   "source": [
    "### 'claim_liable'"
   ]
  },
  {
   "cell_type": "code",
   "execution_count": null,
   "metadata": {
    "id": "TYfycay-2TYG",
    "outputId": "4bcc82ac-1498-492c-a595-5fa85f2a2073"
   },
   "outputs": [
    {
     "name": "stdout",
     "output_type": "stream",
     "text": [
      "fraud             N    Y\n",
      "claim_liable            \n",
      "N             20188  140\n",
      "Y             12911   38\n"
     ]
    },
    {
     "data": {
      "image/png": "[encoded data removed]",
      "text/plain": [
       "<Figure size 576x288 with 1 Axes>"
      ]
     },
     "metadata": {
      "tags": []
     },
     "output_type": "display_data"
    }
   ],
   "source": [
    "#Categorical variable (object)\n",
    "\n",
    "print(pd.crosstab(df['claim_liable'], df['fraud']))\n",
    "fig = plt.figure(figsize=(8,4))\n",
    "ax = sns.countplot(x='claim_liable', data=df)"
   ]
  },
  {
   "cell_type": "markdown",
   "metadata": {
    "id": "O0yjUz2c2TYH"
   },
   "source": [
    "### 'claim_num_injured' (int)"
   ]
  },
  {
   "cell_type": "code",
   "execution_count": null,
   "metadata": {
    "id": "0r2TVNKF2TYH",
    "outputId": "b041ca3e-0c3a-423c-832e-9eb6cb59d47a"
   },
   "outputs": [
    {
     "name": "stdout",
     "output_type": "stream",
     "text": [
      "       claim_num_injured\n",
      "fraud                   \n",
      "N               0.072147\n",
      "Y               0.050562\n"
     ]
    },
    {
     "name": "stderr",
     "output_type": "stream",
     "text": [
      "C:\\Anaconda_Pyhton\\lib\\site-packages\\seaborn\\distributions.py:369: UserWarning: Default bandwidth for data is 0; skipping density estimation.\n",
      "  warnings.warn(msg, UserWarning)\n"
     ]
    },
    {
     "data": {
      "text/plain": [
       "<matplotlib.axes._subplots.AxesSubplot at 0x229df871df0>"
      ]
     },
     "execution_count": 22,
     "metadata": {
      "tags": []
     },
     "output_type": "execute_result"
    },
    {
     "data": {
      "image/png": "[encoded data removed]",
      "text/plain": [
       "<Figure size 432x288 with 1 Axes>"
      ]
     },
     "metadata": {
      "tags": []
     },
     "output_type": "display_data"
    }
   ],
   "source": [
    "print(df.pivot_table(values=['claim_num_injured'], index=['fraud'], aggfunc='mean'))\n",
    "sns.distplot(df['claim_num_injured'])"
   ]
  },
  {
   "cell_type": "markdown",
   "metadata": {
    "id": "v5432U8a2TYI"
   },
   "source": [
    "Valus could be restricted to 0/1 ?"
   ]
  },
  {
   "cell_type": "markdown",
   "metadata": {
    "id": "9EZr36mo2TYO"
   },
   "source": [
    "### 'claim_num_third_parties' (int)"
   ]
  },
  {
   "cell_type": "code",
   "execution_count": null,
   "metadata": {
    "id": "dObfFKMU2TYO",
    "outputId": "0d10209a-3454-43d7-e47e-77b25eda91de"
   },
   "outputs": [
    {
     "data": {
      "text/html": [
       "<div>\n",
       "<style scoped>\n",
       "    .dataframe tbody tr th:only-of-type {\n",
       "        vertical-align: middle;\n",
       "    }\n",
       "\n",
       "    .dataframe tbody tr th {\n",
       "        vertical-align: top;\n",
       "    }\n",
       "\n",
       "    .dataframe thead th {\n",
       "        text-align: right;\n",
       "    }\n",
       "</style>\n",
       "<table border=\"1\" class=\"dataframe\">\n",
       "  <thead>\n",
       "    <tr style=\"text-align: right;\">\n",
       "      <th></th>\n",
       "      <th>claim_num_third_parties</th>\n",
       "    </tr>\n",
       "    <tr>\n",
       "      <th>fraud</th>\n",
       "      <th></th>\n",
       "    </tr>\n",
       "  </thead>\n",
       "  <tbody>\n",
       "    <tr>\n",
       "      <th>N</th>\n",
       "      <td>0.833711</td>\n",
       "    </tr>\n",
       "    <tr>\n",
       "      <th>Y</th>\n",
       "      <td>0.511236</td>\n",
       "    </tr>\n",
       "  </tbody>\n",
       "</table>\n",
       "</div>"
      ],
      "text/plain": [
       "       claim_num_third_parties\n",
       "fraud                         \n",
       "N                     0.833711\n",
       "Y                     0.511236"
      ]
     },
     "execution_count": 23,
     "metadata": {
      "tags": []
     },
     "output_type": "execute_result"
    }
   ],
   "source": [
    "df.pivot_table(values=['claim_num_third_parties'], index=['fraud'], aggfunc='mean')"
   ]
  },
  {
   "cell_type": "markdown",
   "metadata": {
    "id": "l3QN-G052TYP"
   },
   "source": [
    "### 'claim_num_vehicles' (int)"
   ]
  },
  {
   "cell_type": "code",
   "execution_count": null,
   "metadata": {
    "id": "FIJwwU7B2TYR",
    "outputId": "47c14ff5-91b7-4f31-c769-dcc90aed588f"
   },
   "outputs": [
    {
     "data": {
      "text/html": [
       "<div>\n",
       "<style scoped>\n",
       "    .dataframe tbody tr th:only-of-type {\n",
       "        vertical-align: middle;\n",
       "    }\n",
       "\n",
       "    .dataframe tbody tr th {\n",
       "        vertical-align: top;\n",
       "    }\n",
       "\n",
       "    .dataframe thead th {\n",
       "        text-align: right;\n",
       "    }\n",
       "</style>\n",
       "<table border=\"1\" class=\"dataframe\">\n",
       "  <thead>\n",
       "    <tr style=\"text-align: right;\">\n",
       "      <th></th>\n",
       "      <th>claim_num_vehicles</th>\n",
       "    </tr>\n",
       "    <tr>\n",
       "      <th>fraud</th>\n",
       "      <th></th>\n",
       "    </tr>\n",
       "  </thead>\n",
       "  <tbody>\n",
       "    <tr>\n",
       "      <th>N</th>\n",
       "      <td>2.402399</td>\n",
       "    </tr>\n",
       "    <tr>\n",
       "      <th>Y</th>\n",
       "      <td>2.882022</td>\n",
       "    </tr>\n",
       "  </tbody>\n",
       "</table>\n",
       "</div>"
      ],
      "text/plain": [
       "       claim_num_vehicles\n",
       "fraud                    \n",
       "N                2.402399\n",
       "Y                2.882022"
      ]
     },
     "execution_count": 24,
     "metadata": {
      "tags": []
     },
     "output_type": "execute_result"
    }
   ],
   "source": [
    "df.pivot_table(values=['claim_num_vehicles'], index=['fraud'], aggfunc='mean')"
   ]
  },
  {
   "cell_type": "markdown",
   "metadata": {
    "id": "dvOzLbDE2TYS"
   },
   "source": [
    "### 'claim_police'"
   ]
  },
  {
   "cell_type": "code",
   "execution_count": null,
   "metadata": {
    "id": "TsSW95MU2TYS",
    "outputId": "47f89044-176a-481b-814d-741783d69b6c"
   },
   "outputs": [
    {
     "data": {
      "text/html": [
       "<div>\n",
       "<style scoped>\n",
       "    .dataframe tbody tr th:only-of-type {\n",
       "        vertical-align: middle;\n",
       "    }\n",
       "\n",
       "    .dataframe tbody tr th {\n",
       "        vertical-align: top;\n",
       "    }\n",
       "\n",
       "    .dataframe thead th {\n",
       "        text-align: right;\n",
       "    }\n",
       "</style>\n",
       "<table border=\"1\" class=\"dataframe\">\n",
       "  <thead>\n",
       "    <tr style=\"text-align: right;\">\n",
       "      <th>fraud</th>\n",
       "      <th>N</th>\n",
       "      <th>Y</th>\n",
       "    </tr>\n",
       "    <tr>\n",
       "      <th>claim_police</th>\n",
       "      <th></th>\n",
       "      <th></th>\n",
       "    </tr>\n",
       "  </thead>\n",
       "  <tbody>\n",
       "    <tr>\n",
       "      <th>N</th>\n",
       "      <td>28601</td>\n",
       "      <td>115</td>\n",
       "    </tr>\n",
       "    <tr>\n",
       "      <th>Y</th>\n",
       "      <td>4498</td>\n",
       "      <td>63</td>\n",
       "    </tr>\n",
       "  </tbody>\n",
       "</table>\n",
       "</div>"
      ],
      "text/plain": [
       "fraud             N    Y\n",
       "claim_police            \n",
       "N             28601  115\n",
       "Y              4498   63"
      ]
     },
     "execution_count": 25,
     "metadata": {
      "tags": []
     },
     "output_type": "execute_result"
    }
   ],
   "source": [
    "#Categorical variable (object)\n",
    "\n",
    "pd.crosstab(df['claim_police'], df['fraud'])"
   ]
  },
  {
   "cell_type": "markdown",
   "metadata": {
    "id": "v4MKkGFO2TYS"
   },
   "source": [
    "### 'claim_alcohol'"
   ]
  },
  {
   "cell_type": "code",
   "execution_count": null,
   "metadata": {
    "id": "b9FgU-Uk2TYT",
    "outputId": "7f917a07-1bb1-4989-c5c5-53f804783080"
   },
   "outputs": [
    {
     "data": {
      "text/html": [
       "<div>\n",
       "<style scoped>\n",
       "    .dataframe tbody tr th:only-of-type {\n",
       "        vertical-align: middle;\n",
       "    }\n",
       "\n",
       "    .dataframe tbody tr th {\n",
       "        vertical-align: top;\n",
       "    }\n",
       "\n",
       "    .dataframe thead th {\n",
       "        text-align: right;\n",
       "    }\n",
       "</style>\n",
       "<table border=\"1\" class=\"dataframe\">\n",
       "  <thead>\n",
       "    <tr style=\"text-align: right;\">\n",
       "      <th>fraud</th>\n",
       "      <th>N</th>\n",
       "      <th>Y</th>\n",
       "    </tr>\n",
       "    <tr>\n",
       "      <th>claim_alcohol</th>\n",
       "      <th></th>\n",
       "      <th></th>\n",
       "    </tr>\n",
       "  </thead>\n",
       "  <tbody>\n",
       "    <tr>\n",
       "      <th>N</th>\n",
       "      <td>479</td>\n",
       "      <td>3</td>\n",
       "    </tr>\n",
       "    <tr>\n",
       "      <th>P</th>\n",
       "      <td>61</td>\n",
       "      <td>2</td>\n",
       "    </tr>\n",
       "  </tbody>\n",
       "</table>\n",
       "</div>"
      ],
      "text/plain": [
       "fraud            N  Y\n",
       "claim_alcohol        \n",
       "N              479  3\n",
       "P               61  2"
      ]
     },
     "execution_count": 26,
     "metadata": {
      "tags": []
     },
     "output_type": "execute_result"
    }
   ],
   "source": [
    "#Categorical variable (object)\n",
    "\n",
    "pd.crosstab(df['claim_alcohol'], df['fraud'])\n",
    "#Many missing values !!!"
   ]
  },
  {
   "cell_type": "code",
   "execution_count": null,
   "metadata": {
    "id": "yeRERS5l2TYT",
    "outputId": "0a24e80e-7fc6-475a-c256-181bb49b2ac2"
   },
   "outputs": [
    {
     "name": "stdout",
     "output_type": "stream",
     "text": [
      "             claim_cause claim_liable claim_police claim_alcohol  \\\n",
      "count              32732        32732        32732             0   \n",
      "unique                 8            2            2             0   \n",
      "top     traffic accident            N            N           NaN   \n",
      "freq               25590        20056        28596           NaN   \n",
      "\n",
      "                                   claim_vehicle_id claim_vehicle_brand  \\\n",
      "count                                         26561               26808   \n",
      "unique                                        24910                  35   \n",
      "top     OGJhN2MzY2I4YmU4ZGRjNTU0ZTk3YjQwMDA2M2IxMmQ          VOLKSWAGEN   \n",
      "freq                                              4                2874   \n",
      "\n",
      "       claim_vehicle_type                             policy_holder_id  \\\n",
      "count               32639                                        32732   \n",
      "unique                  2                                        19601   \n",
      "top                   car  MTNlMmVhMzM4ZWMzNDIyMTY2OTJhN2EwY2E1YmI2N2I   \n",
      "freq                30477                                           78   \n",
      "\n",
      "       policy_holder_form policy_holder_country  \\\n",
      "count               32732                 32732   \n",
      "unique                  2                     2   \n",
      "top                     M                     B   \n",
      "freq                20590                 32678   \n",
      "\n",
      "                            policy_holder_expert_id  \\\n",
      "count                                          5589   \n",
      "unique                                           63   \n",
      "top     YmNkZjNiZTQ1MmYzNGQ5YTRmNjI0N2U1YzdiOWUzYzE   \n",
      "freq                                            764   \n",
      "\n",
      "                                          driver_id driver_form  \\\n",
      "count                                         32732       32732   \n",
      "unique                                        18578           2   \n",
      "top     ZDEyMDQzM2I3MDE5MWMyODgwNThmNDkyZDczMjQ1ZGY           M   \n",
      "freq                                            270       23578   \n",
      "\n",
      "       driver_country                             driver_expert_id  \\\n",
      "count           32732                                         8005   \n",
      "unique              2                                           66   \n",
      "top                 B  YmNkZjNiZTQ1MmYzNGQ5YTRmNjI0N2U1YzdiOWUzYzE   \n",
      "freq            32690                                         1093   \n",
      "\n",
      "       driver_injured                            driver_vehicle_id  \\\n",
      "count           32732                                        26568   \n",
      "unique              2                                        24916   \n",
      "top                 N  MDM0ZTFlYzY4YjQzOGRhYWMxMTAzZTM2NDRhYmQwNDM   \n",
      "freq            32404                                            4   \n",
      "\n",
      "                                   third_party_1_id third_party_1_injured  \\\n",
      "count                                         24552                 24552   \n",
      "unique                                        18419                     2   \n",
      "top     NTg0ODNiYTYwODI0MGU0MzRlODM2MGNkYWI5NGNkODY                     N   \n",
      "freq                                             69                 23565   \n",
      "\n",
      "       third_party_1_vehicle_type third_party_1_form third_party_1_country  \\\n",
      "count                       23268              24552                 24552   \n",
      "unique                          8                  3                     2   \n",
      "top                           car                  M                     B   \n",
      "freq                        20908               9893                 23923   \n",
      "\n",
      "                           third_party_1_vehicle_id  \\\n",
      "count                                         21709   \n",
      "unique                                        21274   \n",
      "top     NTA1OGYxYWY4Mzg4NjMzZjYwOWNhZGI3NWE3NWRjOWQ   \n",
      "freq                                            107   \n",
      "\n",
      "                            third_party_1_expert_id  \\\n",
      "count                                           359   \n",
      "unique                                           64   \n",
      "top     ZmRlZTE4NDVmOTg1YTc0MGViYjZhOGZhZGFiNmI2OWE   \n",
      "freq                                             30   \n",
      "\n",
      "                                   third_party_2_id third_party_2_injured  \\\n",
      "count                                          2350                  2350   \n",
      "unique                                         2155                     2   \n",
      "top     NTg0ODNiYTYwODI0MGU0MzRlODM2MGNkYWI5NGNkODY                     N   \n",
      "freq                                             12                  1986   \n",
      "\n",
      "       third_party_2_vehicle_type third_party_2_form third_party_2_country  \\\n",
      "count                        1942               2350                  2350   \n",
      "unique                          8                  5                     2   \n",
      "top                           car                  M                     B   \n",
      "freq                         1543                984                  2282   \n",
      "\n",
      "                           third_party_2_vehicle_id  \\\n",
      "count                                          1622   \n",
      "unique                                         1605   \n",
      "top     NTA1OGYxYWY4Mzg4NjMzZjYwOWNhZGI3NWE3NWRjOWQ   \n",
      "freq                                              7   \n",
      "\n",
      "                            third_party_2_expert_id  \\\n",
      "count                                            15   \n",
      "unique                                           14   \n",
      "top     OTliOTAzYWU3YzljYzdkYmVmNzNmYWMyZjNjNzQ5OWE   \n",
      "freq                                              2   \n",
      "\n",
      "                                   third_party_3_id third_party_3_injured  \\\n",
      "count                                            17                    17   \n",
      "unique                                           17                     2   \n",
      "top     MGNkZmY1ZjYxMzg0ZDE2Njk3ZWI4MTQ4MWQzNTNiYzk                     N   \n",
      "freq                                              1                    14   \n",
      "\n",
      "       third_party_3_vehicle_type third_party_3_form third_party_3_country  \\\n",
      "count                          16                 17                    17   \n",
      "unique                          3                  4                     1   \n",
      "top                           car                  U                     B   \n",
      "freq                           14                  8                    17   \n",
      "\n",
      "                           third_party_3_vehicle_id  \\\n",
      "count                                            14   \n",
      "unique                                           14   \n",
      "top     MWZkMGVhNDZmYjgxMTlhYjVlYmUzOTRiYjg4M2E4ZTU   \n",
      "freq                                              1   \n",
      "\n",
      "                                          repair_id repair_form  \\\n",
      "count                                         15096       15096   \n",
      "unique                                         3653           3   \n",
      "top     NzRjYTk0N2NiMTU4ZWYwMTdiM2Y1NTZiNjFiM2QxY2Y           C   \n",
      "freq                                            203       14816   \n",
      "\n",
      "       repair_country repair_sla policy_coverage_type  fraud  \n",
      "count           15096      32732                32732  32732  \n",
      "unique              2          2                   69      2  \n",
      "top                 B          N           #000110000      N  \n",
      "freq            15084      21001                 6809  32559  \n",
      "**********************************************************************\n"
     ]
    }
   ],
   "source": [
    "#Analysis of missing values\n",
    "print(df[df['claim_alcohol'].isnull()].describe(include=['object']))\n",
    "print(70*\"*\")\n",
    "#173 cases among these claims without alcohol test were fraudulent (over the 178 in the data set)"
   ]
  },
  {
   "cell_type": "markdown",
   "metadata": {
    "id": "UQOwrE3d2TYT"
   },
   "source": [
    "When this attribute's values are not provided -> often observe fraud"
   ]
  },
  {
   "cell_type": "markdown",
   "metadata": {
    "id": "ZZS_rFBE2TYU"
   },
   "source": [
    "### 'claim_language'"
   ]
  },
  {
   "cell_type": "code",
   "execution_count": null,
   "metadata": {
    "id": "rYtbwKI62TYU",
    "outputId": "ae5ef4f4-acad-42fa-e7e0-79c0e7757746"
   },
   "outputs": [
    {
     "data": {
      "text/html": [
       "<div>\n",
       "<style scoped>\n",
       "    .dataframe tbody tr th:only-of-type {\n",
       "        vertical-align: middle;\n",
       "    }\n",
       "\n",
       "    .dataframe tbody tr th {\n",
       "        vertical-align: top;\n",
       "    }\n",
       "\n",
       "    .dataframe thead th {\n",
       "        text-align: right;\n",
       "    }\n",
       "</style>\n",
       "<table border=\"1\" class=\"dataframe\">\n",
       "  <thead>\n",
       "    <tr style=\"text-align: right;\">\n",
       "      <th>fraud</th>\n",
       "      <th>N</th>\n",
       "      <th>Y</th>\n",
       "    </tr>\n",
       "    <tr>\n",
       "      <th>claim_language</th>\n",
       "      <th></th>\n",
       "      <th></th>\n",
       "    </tr>\n",
       "  </thead>\n",
       "  <tbody>\n",
       "    <tr>\n",
       "      <th>0.0</th>\n",
       "      <td>23435</td>\n",
       "      <td>77</td>\n",
       "    </tr>\n",
       "    <tr>\n",
       "      <th>1.0</th>\n",
       "      <td>9640</td>\n",
       "      <td>101</td>\n",
       "    </tr>\n",
       "  </tbody>\n",
       "</table>\n",
       "</div>"
      ],
      "text/plain": [
       "fraud               N    Y\n",
       "claim_language            \n",
       "0.0             23435   77\n",
       "1.0              9640  101"
      ]
     },
     "execution_count": 28,
     "metadata": {
      "tags": []
     },
     "output_type": "execute_result"
    }
   ],
   "source": [
    "#Claim language is a float: transform to binary\n",
    "df['claim_language']= df['claim_language'].map({1.0: 1, 2.0: 0})\n",
    "df['claim_language'] = df['claim_language'].astype(object)\n",
    "pd.crosstab(df['claim_language'], df['fraud'])"
   ]
  },
  {
   "cell_type": "markdown",
   "metadata": {
    "id": "OKHgUqXx2TYV"
   },
   "source": [
    "### 'claim_vehicle_brand'"
   ]
  },
  {
   "cell_type": "code",
   "execution_count": null,
   "metadata": {
    "id": "kRuHGA-72TYV",
    "outputId": "f3283329-397c-43e2-f869-928d4dad21c0"
   },
   "outputs": [
    {
     "data": {
      "text/html": [
       "<div>\n",
       "<style scoped>\n",
       "    .dataframe tbody tr th:only-of-type {\n",
       "        vertical-align: middle;\n",
       "    }\n",
       "\n",
       "    .dataframe tbody tr th {\n",
       "        vertical-align: top;\n",
       "    }\n",
       "\n",
       "    .dataframe thead th {\n",
       "        text-align: right;\n",
       "    }\n",
       "</style>\n",
       "<table border=\"1\" class=\"dataframe\">\n",
       "  <thead>\n",
       "    <tr style=\"text-align: right;\">\n",
       "      <th>fraud</th>\n",
       "      <th>N</th>\n",
       "      <th>Y</th>\n",
       "    </tr>\n",
       "    <tr>\n",
       "      <th>claim_vehicle_brand</th>\n",
       "      <th></th>\n",
       "      <th></th>\n",
       "    </tr>\n",
       "  </thead>\n",
       "  <tbody>\n",
       "    <tr>\n",
       "      <th>ALFA ROMEO</th>\n",
       "      <td>186</td>\n",
       "      <td>2</td>\n",
       "    </tr>\n",
       "    <tr>\n",
       "      <th>AUDI</th>\n",
       "      <td>1258</td>\n",
       "      <td>11</td>\n",
       "    </tr>\n",
       "    <tr>\n",
       "      <th>BMW</th>\n",
       "      <td>1489</td>\n",
       "      <td>18</td>\n",
       "    </tr>\n",
       "    <tr>\n",
       "      <th>CHEVROLET</th>\n",
       "      <td>208</td>\n",
       "      <td>1</td>\n",
       "    </tr>\n",
       "    <tr>\n",
       "      <th>CHRYSLER</th>\n",
       "      <td>45</td>\n",
       "      <td>1</td>\n",
       "    </tr>\n",
       "    <tr>\n",
       "      <th>CITROEN</th>\n",
       "      <td>2286</td>\n",
       "      <td>10</td>\n",
       "    </tr>\n",
       "    <tr>\n",
       "      <th>DACIA</th>\n",
       "      <td>521</td>\n",
       "      <td>5</td>\n",
       "    </tr>\n",
       "    <tr>\n",
       "      <th>DODGE</th>\n",
       "      <td>53</td>\n",
       "      <td>0</td>\n",
       "    </tr>\n",
       "    <tr>\n",
       "      <th>FIAT</th>\n",
       "      <td>762</td>\n",
       "      <td>5</td>\n",
       "    </tr>\n",
       "    <tr>\n",
       "      <th>FORD</th>\n",
       "      <td>2268</td>\n",
       "      <td>7</td>\n",
       "    </tr>\n",
       "    <tr>\n",
       "      <th>HONDA</th>\n",
       "      <td>227</td>\n",
       "      <td>0</td>\n",
       "    </tr>\n",
       "    <tr>\n",
       "      <th>HYUNDAI</th>\n",
       "      <td>669</td>\n",
       "      <td>3</td>\n",
       "    </tr>\n",
       "    <tr>\n",
       "      <th>IVECO</th>\n",
       "      <td>39</td>\n",
       "      <td>0</td>\n",
       "    </tr>\n",
       "    <tr>\n",
       "      <th>JAGUAR</th>\n",
       "      <td>47</td>\n",
       "      <td>0</td>\n",
       "    </tr>\n",
       "    <tr>\n",
       "      <th>JEEP</th>\n",
       "      <td>43</td>\n",
       "      <td>1</td>\n",
       "    </tr>\n",
       "    <tr>\n",
       "      <th>KIA</th>\n",
       "      <td>509</td>\n",
       "      <td>3</td>\n",
       "    </tr>\n",
       "    <tr>\n",
       "      <th>LANCIA</th>\n",
       "      <td>70</td>\n",
       "      <td>0</td>\n",
       "    </tr>\n",
       "    <tr>\n",
       "      <th>LAND ROVER</th>\n",
       "      <td>103</td>\n",
       "      <td>1</td>\n",
       "    </tr>\n",
       "    <tr>\n",
       "      <th>MAZDA</th>\n",
       "      <td>322</td>\n",
       "      <td>1</td>\n",
       "    </tr>\n",
       "    <tr>\n",
       "      <th>MERCEDES</th>\n",
       "      <td>1399</td>\n",
       "      <td>10</td>\n",
       "    </tr>\n",
       "    <tr>\n",
       "      <th>MINI</th>\n",
       "      <td>178</td>\n",
       "      <td>4</td>\n",
       "    </tr>\n",
       "    <tr>\n",
       "      <th>MITSUBISHI</th>\n",
       "      <td>239</td>\n",
       "      <td>1</td>\n",
       "    </tr>\n",
       "    <tr>\n",
       "      <th>NISSAN</th>\n",
       "      <td>789</td>\n",
       "      <td>5</td>\n",
       "    </tr>\n",
       "    <tr>\n",
       "      <th>OPEL</th>\n",
       "      <td>2877</td>\n",
       "      <td>11</td>\n",
       "    </tr>\n",
       "    <tr>\n",
       "      <th>PEUGEOT</th>\n",
       "      <td>2319</td>\n",
       "      <td>13</td>\n",
       "    </tr>\n",
       "    <tr>\n",
       "      <th>PORSCHE</th>\n",
       "      <td>51</td>\n",
       "      <td>1</td>\n",
       "    </tr>\n",
       "    <tr>\n",
       "      <th>RENAULT</th>\n",
       "      <td>2122</td>\n",
       "      <td>14</td>\n",
       "    </tr>\n",
       "    <tr>\n",
       "      <th>SAAB</th>\n",
       "      <td>61</td>\n",
       "      <td>0</td>\n",
       "    </tr>\n",
       "    <tr>\n",
       "      <th>SEAT</th>\n",
       "      <td>514</td>\n",
       "      <td>3</td>\n",
       "    </tr>\n",
       "    <tr>\n",
       "      <th>SKODA</th>\n",
       "      <td>564</td>\n",
       "      <td>2</td>\n",
       "    </tr>\n",
       "    <tr>\n",
       "      <th>SSANGYONG</th>\n",
       "      <td>36</td>\n",
       "      <td>0</td>\n",
       "    </tr>\n",
       "    <tr>\n",
       "      <th>SUZUKI</th>\n",
       "      <td>293</td>\n",
       "      <td>1</td>\n",
       "    </tr>\n",
       "    <tr>\n",
       "      <th>TOYOTA</th>\n",
       "      <td>1170</td>\n",
       "      <td>2</td>\n",
       "    </tr>\n",
       "    <tr>\n",
       "      <th>VOLKSWAGEN</th>\n",
       "      <td>2910</td>\n",
       "      <td>15</td>\n",
       "    </tr>\n",
       "    <tr>\n",
       "      <th>VOLVO</th>\n",
       "      <td>545</td>\n",
       "      <td>2</td>\n",
       "    </tr>\n",
       "  </tbody>\n",
       "</table>\n",
       "</div>"
      ],
      "text/plain": [
       "fraud                   N   Y\n",
       "claim_vehicle_brand          \n",
       "ALFA ROMEO            186   2\n",
       "AUDI                 1258  11\n",
       "BMW                  1489  18\n",
       "CHEVROLET             208   1\n",
       "CHRYSLER               45   1\n",
       "CITROEN              2286  10\n",
       "DACIA                 521   5\n",
       "DODGE                  53   0\n",
       "FIAT                  762   5\n",
       "FORD                 2268   7\n",
       "HONDA                 227   0\n",
       "HYUNDAI               669   3\n",
       "IVECO                  39   0\n",
       "JAGUAR                 47   0\n",
       "JEEP                   43   1\n",
       "KIA                   509   3\n",
       "LANCIA                 70   0\n",
       "LAND ROVER            103   1\n",
       "MAZDA                 322   1\n",
       "MERCEDES             1399  10\n",
       "MINI                  178   4\n",
       "MITSUBISHI            239   1\n",
       "NISSAN                789   5\n",
       "OPEL                 2877  11\n",
       "PEUGEOT              2319  13\n",
       "PORSCHE                51   1\n",
       "RENAULT              2122  14\n",
       "SAAB                   61   0\n",
       "SEAT                  514   3\n",
       "SKODA                 564   2\n",
       "SSANGYONG              36   0\n",
       "SUZUKI                293   1\n",
       "TOYOTA               1170   2\n",
       "VOLKSWAGEN           2910  15\n",
       "VOLVO                 545   2"
      ]
     },
     "execution_count": 29,
     "metadata": {
      "tags": []
     },
     "output_type": "execute_result"
    }
   ],
   "source": [
    "#Categorical variable (object)\n",
    "\n",
    "pd.crosstab(df['claim_vehicle_brand'], df['fraud'])"
   ]
  },
  {
   "cell_type": "markdown",
   "metadata": {
    "id": "qfJ2aevi2TYV"
   },
   "source": [
    "### 'claim_vehicle_type'"
   ]
  },
  {
   "cell_type": "code",
   "execution_count": null,
   "metadata": {
    "id": "Bjy14CHZ2TYW",
    "outputId": "3793b994-a7e8-4253-d1cf-7d5accb67eab"
   },
   "outputs": [
    {
     "name": "stdout",
     "output_type": "stream",
     "text": [
      "fraud                   N    Y\n",
      "claim_vehicle_type            \n",
      "car                 30822  159\n",
      "van                  2185   18\n"
     ]
    }
   ],
   "source": [
    "#Categorical variable (object)\n",
    "\n",
    "df['claim_vehicle_type'] = df['claim_vehicle_type'].astype(object)\n",
    "print(pd.crosstab(df['claim_vehicle_type'], df['fraud']))"
   ]
  },
  {
   "cell_type": "markdown",
   "metadata": {
    "id": "_LAGK5LM2TYW"
   },
   "source": [
    "### 'claim_vehicle_date_inuse'"
   ]
  },
  {
   "cell_type": "code",
   "execution_count": null,
   "metadata": {
    "id": "wMkDd4zi2TYW"
   },
   "outputs": [],
   "source": [
    "#Format is int: should be transformed into date/age of vehicle when incident occurred\n"
   ]
  },
  {
   "cell_type": "markdown",
   "metadata": {
    "id": "F29YnCz-2TYW"
   },
   "source": [
    "### 'policy_holder_form' & 'driver_form'"
   ]
  },
  {
   "cell_type": "code",
   "execution_count": null,
   "metadata": {
    "id": "Ed1n7KKh2TYX",
    "outputId": "71e3df0d-a275-47d1-9c1f-82336ecfd368"
   },
   "outputs": [
    {
     "name": "stdout",
     "output_type": "stream",
     "text": [
      "fraud                   N    Y\n",
      "policy_holder_form            \n",
      "F                   12272   53\n",
      "M                   20827  125\n",
      "\n",
      "fraud            N    Y\n",
      "driver_form            \n",
      "F             9281   46\n",
      "M            23818  132\n"
     ]
    }
   ],
   "source": [
    "#Categorical variables (object)\n",
    "print(pd.crosstab(df['policy_holder_form'], df['fraud']))\n",
    "print(\"\")\n",
    "print(pd.crosstab(df['driver_form'], df['fraud']))"
   ]
  },
  {
   "cell_type": "markdown",
   "metadata": {
    "id": "bfW7ACeK2TYX"
   },
   "source": [
    "### 'policy_holder_year_birth' & 'driver_year_birth'"
   ]
  },
  {
   "cell_type": "code",
   "execution_count": null,
   "metadata": {
    "id": "VfR2jMXu2TYX"
   },
   "outputs": [],
   "source": [
    "#Float variables\n",
    "#Suggestion: Transorm year into age for 'policy_holder_year_birth' & 'driver_year_birth' ??\n",
    "\n",
    "#To test\n",
    "#df['policy_holder_age']= df['claim_date_occured'].year - df['policy_holder_year_birth']"
   ]
  },
  {
   "cell_type": "markdown",
   "metadata": {
    "id": "DMKmtAX82TYY"
   },
   "source": [
    "### 'policy_holder_country' & 'driver_country'"
   ]
  },
  {
   "cell_type": "code",
   "execution_count": null,
   "metadata": {
    "id": "nY_82F-y2TYY",
    "outputId": "d74df71d-5628-4f1d-d65e-46090593ad04"
   },
   "outputs": [
    {
     "name": "stdout",
     "output_type": "stream",
     "text": [
      "B    0.997999\n",
      "N    0.002001\n",
      "Name: policy_holder_country, dtype: float64\n",
      "\n",
      "B    0.998684\n",
      "N    0.001316\n",
      "Name: driver_country, dtype: float64\n"
     ]
    }
   ],
   "source": [
    "#Categorical variables (object)\n",
    "\n",
    "print(data['policy_holder_country'].value_counts(normalize=True))\n",
    "print(\"\")\n",
    "\n",
    "print(data['driver_country'].value_counts(normalize=True))"
   ]
  },
  {
   "cell_type": "markdown",
   "metadata": {
    "id": "O17NBz5W2TYY"
   },
   "source": [
    "### 'policy_holder_expert_id' & 'driver_expert_id'"
   ]
  },
  {
   "cell_type": "code",
   "execution_count": null,
   "metadata": {
    "id": "NIZtuBHK2TYZ"
   },
   "outputs": [],
   "source": [
    "#Categorical variables (object)\n",
    "#Suggestion: transform into binary 0=absent/1=included"
   ]
  },
  {
   "cell_type": "markdown",
   "metadata": {
    "id": "s0WcNZcZ2TYZ"
   },
   "source": [
    "### 'driver_injured'"
   ]
  },
  {
   "cell_type": "code",
   "execution_count": null,
   "metadata": {
    "id": "3vZwg1SB2TYZ",
    "outputId": "ef0a5b51-0fea-4f85-b80e-597f81f8de91"
   },
   "outputs": [
    {
     "name": "stdout",
     "output_type": "stream",
     "text": [
      "fraud               N    Y\n",
      "driver_injured            \n",
      "N               22887  114\n",
      "Y                 272    2\n"
     ]
    },
    {
     "data": {
      "text/plain": [
       "Text(0.5, 1.0, 'Importance of injured drivers in the total number of drivers')"
      ]
     },
     "execution_count": 36,
     "metadata": {
      "tags": []
     },
     "output_type": "execute_result"
    },
    {
     "data": {
      "image/png": "[encoded data removed]",
      "text/plain": [
       "<Figure size 432x288 with 1 Axes>"
      ]
     },
     "metadata": {
      "tags": []
     },
     "output_type": "display_data"
    }
   ],
   "source": [
    "#Categorical variable (object)\n",
    "print(pd.crosstab(df['driver_injured'], data['fraud']))\n",
    "hist = sns.countplot(x='driver_injured',data=df)\n",
    "hist.set_title('Importance of injured drivers in the total number of drivers')"
   ]
  },
  {
   "cell_type": "markdown",
   "metadata": {
    "id": "4pP7yhX92TYa"
   },
   "source": [
    "### 'policy_date_start' & 'policy_date_next_expiry' & 'policy_date_last_renewed'"
   ]
  },
  {
   "cell_type": "code",
   "execution_count": null,
   "metadata": {
    "id": "4TQXrpoc2TYa"
   },
   "outputs": [],
   "source": [
    "#Float variables: should be changed into date/time with regard to incident"
   ]
  },
  {
   "cell_type": "markdown",
   "metadata": {
    "id": "baH5hDxq2TYa"
   },
   "source": [
    "### 'policy_num_changes' & 'policy_num_claims'"
   ]
  },
  {
   "cell_type": "code",
   "execution_count": null,
   "metadata": {
    "id": "qiaS2mTj2TYa",
    "outputId": "f220133a-af49-4e62-b93e-34c93945084c"
   },
   "outputs": [
    {
     "name": "stdout",
     "output_type": "stream",
     "text": [
      "fraud                   N    Y\n",
      "policy_num_changes            \n",
      "0                   25014  116\n",
      "1                    4672   27\n",
      "2                    2040   22\n",
      "3                     758    3\n",
      "4                     358    4\n",
      "5                     116    6\n",
      "6                      79    0\n",
      "7                      27    0\n",
      "8                      20    0\n",
      "9                       6    0\n",
      "10                      9    0\n",
      "AxesSubplot(0.08,0.07;0.87x0.81)\n"
     ]
    },
    {
     "name": "stderr",
     "output_type": "stream",
     "text": [
      "C:\\Anaconda_Pyhton\\lib\\site-packages\\seaborn\\distributions.py:369: UserWarning: Default bandwidth for data is 0; skipping density estimation.\n",
      "  warnings.warn(msg, UserWarning)\n"
     ]
    },
    {
     "data": {
      "image/png": "[encoded data removed]",
      "text/plain": [
       "<Figure size 432x288 with 1 Axes>"
      ]
     },
     "metadata": {
      "tags": []
     },
     "output_type": "display_data"
    }
   ],
   "source": [
    "#Integer variables\n",
    "print(pd.crosstab(df['policy_num_changes'], df['fraud']))\n",
    "print(sns.distplot(df['policy_num_changes']))"
   ]
  },
  {
   "cell_type": "code",
   "execution_count": null,
   "metadata": {
    "id": "ZXkbjbZz2TYb",
    "outputId": "29d5e05b-8552-4522-aea0-17c51d6b0b4b"
   },
   "outputs": [
    {
     "name": "stdout",
     "output_type": "stream",
     "text": [
      "fraud                  N   Y\n",
      "policy_num_claims           \n",
      "0                  12002  55\n",
      "1                   7188  45\n",
      "2                   4384  24\n",
      "3                   2928  15\n",
      "4                   1931   9\n",
      "5                   1280   7\n",
      "6                    832  10\n",
      "7                    630   1\n",
      "8                    387   4\n",
      "9                    280   1\n",
      "10                  1257   7\n",
      "AxesSubplot(0.08,0.07;0.87x0.81)\n"
     ]
    },
    {
     "data": {
      "image/png": "[encoded data removed]",
      "text/plain": [
       "<Figure size 432x288 with 1 Axes>"
      ]
     },
     "metadata": {
      "tags": []
     },
     "output_type": "display_data"
    }
   ],
   "source": [
    "print(pd.crosstab(df['policy_num_claims'], df['fraud']))\n",
    "print(sns.distplot(df['policy_num_claims']))"
   ]
  },
  {
   "cell_type": "markdown",
   "metadata": {
    "id": "KFNay9xY2TYb"
   },
   "source": [
    "Most of fraudulent cases happen in policies where only few changes have been made !!"
   ]
  },
  {
   "cell_type": "markdown",
   "metadata": {
    "id": "OjQRJd-W2TYb"
   },
   "source": [
    "### 'policy_premium_100' & 'policy_coverage_1000' & 'policy_coverage_type'"
   ]
  },
  {
   "cell_type": "code",
   "execution_count": null,
   "metadata": {
    "id": "7-pWZ44n2TYc",
    "outputId": "262ac140-7ec6-40a7-e9e6-0e78386918fe"
   },
   "outputs": [
    {
     "name": "stdout",
     "output_type": "stream",
     "text": [
      "fraud                  N   Y\n",
      "policy_premium_100          \n",
      "1.0                   58   0\n",
      "2.0                  157   0\n",
      "3.0                 2606   7\n",
      "4.0                 4313   9\n",
      "5.0                 3078  14\n",
      "6.0                 2174  10\n",
      "7.0                 1966   9\n",
      "8.0                 2150  18\n",
      "9.0                 2210   9\n",
      "10.0                2080  16\n",
      "11.0                1735  13\n",
      "12.0                1433  16\n",
      "13.0                1031   9\n",
      "14.0                 699   5\n",
      "15.0                 517  12\n",
      "16.0                 400   4\n",
      "17.0                 290   1\n",
      "18.0                 211   0\n",
      "19.0                 148   1\n",
      "20.0                  93   1\n",
      "21.0                  90   0\n",
      "22.0                  48   0\n",
      "23.0                  43   1\n",
      "24.0                  29   0\n",
      "25.0                  23   0\n",
      "26.0                  13   1\n",
      "27.0                  15   0\n",
      "28.0                   4   0\n",
      "29.0                  13   0\n",
      "30.0                   6   0\n",
      "31.0                   4   0\n",
      "32.0                   2   0\n",
      "34.0                   1   0\n",
      "35.0                   3   0\n",
      "36.0                   1   0\n",
      "39.0                   2   0\n",
      "45.0                   1   0\n",
      "46.0                   1   0\n",
      "52.0                   1   0\n",
      "AxesSubplot(0.08,0.07;0.87x0.81)\n"
     ]
    },
    {
     "data": {
      "image/png": "[encoded data removed]",
      "text/plain": [
       "<Figure size 432x288 with 1 Axes>"
      ]
     },
     "metadata": {
      "tags": []
     },
     "output_type": "display_data"
    }
   ],
   "source": [
    "#Float/float/object (to transform because binary string ?)\n",
    "print(pd.crosstab(df['policy_premium_100'], df['fraud']))\n",
    "print(sns.distplot(df['policy_premium_100']))"
   ]
  },
  {
   "cell_type": "code",
   "execution_count": null,
   "metadata": {
    "id": "oTwAtdST2TYc",
    "outputId": "d6eea55e-37c1-40aa-90b9-c1055a9f1914"
   },
   "outputs": [
    {
     "name": "stdout",
     "output_type": "stream",
     "text": [
      "fraud                   N   Y\n",
      "policy_coverage_1000         \n",
      "1.0                     1   0\n",
      "2.0                     3   0\n",
      "3.0                     1   0\n",
      "4.0                     3   0\n",
      "5.0                     7   0\n",
      "6.0                    28   0\n",
      "7.0                    82   0\n",
      "8.0                   237   2\n",
      "9.0                   299   4\n",
      "10.0                  455   2\n",
      "11.0                  598   3\n",
      "12.0                  723   2\n",
      "13.0                  844   3\n",
      "14.0                  869  11\n",
      "15.0                  946   6\n",
      "16.0                  818   7\n",
      "17.0                  817   5\n",
      "18.0                  753   5\n",
      "19.0                  746   5\n",
      "20.0                  709   7\n",
      "21.0                  727   8\n",
      "22.0                  700   3\n",
      "23.0                  622   1\n",
      "24.0                  514   7\n",
      "25.0                  583   2\n",
      "26.0                  438   2\n",
      "27.0                  357   0\n",
      "28.0                  354   2\n",
      "29.0                  290   2\n",
      "30.0                  287   3\n",
      "31.0                  244   4\n",
      "32.0                  218   3\n",
      "33.0                  206   7\n",
      "34.0                  148   1\n",
      "35.0                  181   1\n",
      "36.0                  139   1\n",
      "37.0                   85   0\n",
      "38.0                   97   2\n",
      "39.0                   82   0\n",
      "40.0                   86   1\n",
      "41.0                   74   0\n",
      "42.0                   61   0\n",
      "43.0                   68   1\n",
      "44.0                   55   2\n",
      "45.0                   54   1\n",
      "46.0                   45   0\n",
      "47.0                   36   0\n",
      "48.0                   41   0\n",
      "49.0                   36   0\n",
      "50.0                   39   0\n",
      "51.0                   26   0\n",
      "52.0                   17   1\n",
      "53.0                   28   1\n",
      "54.0                   20   0\n",
      "55.0                   24   0\n",
      "56.0                   21   0\n",
      "57.0                    7   0\n",
      "58.0                   12   0\n",
      "59.0                    9   0\n",
      "60.0                   25   0\n",
      "61.0                   11   0\n",
      "62.0                   12   0\n",
      "63.0                   10   0\n",
      "64.0                   12   0\n",
      "65.0                    7   0\n",
      "66.0                    9   0\n",
      "67.0                   11   0\n",
      "68.0                    7   0\n",
      "69.0                    8   0\n",
      "70.0                    4   0\n",
      "71.0                    6   0\n",
      "72.0                    4   0\n",
      "73.0                    6   0\n",
      "74.0                    5   0\n",
      "75.0                    5   0\n",
      "76.0                    1   0\n",
      "77.0                    1   0\n",
      "78.0                    2   0\n",
      "79.0                    1   0\n",
      "80.0                    3   0\n",
      "81.0                    1   0\n",
      "82.0                    2   0\n",
      "83.0                    2   0\n",
      "84.0                    1   0\n",
      "85.0                    2   0\n",
      "87.0                    1   0\n",
      "88.0                    1   0\n",
      "89.0                    1   0\n",
      "91.0                    2   0\n",
      "92.0                    1   0\n",
      "94.0                    0   1\n",
      "96.0                    1   0\n",
      "99.0                    1   0\n",
      "100.0                   1   0\n",
      "101.0                   1   0\n",
      "103.0                   1   0\n",
      "104.0                   1   0\n",
      "106.0                   1   0\n",
      "114.0                   1   0\n",
      "115.0                   1   0\n",
      "119.0                   3   0\n",
      "121.0                   3   0\n",
      "124.0                   3   0\n",
      "125.0                   2   0\n",
      "135.0                   1   0\n",
      "148.0                   1   0\n",
      "AxesSubplot(0.08,0.07;0.87x0.81)\n"
     ]
    },
    {
     "data": {
      "image/png": "[encoded data removed]",
      "text/plain": [
       "<Figure size 432x288 with 1 Axes>"
      ]
     },
     "metadata": {
      "tags": []
     },
     "output_type": "display_data"
    }
   ],
   "source": [
    "print(pd.crosstab(df['policy_coverage_1000'], df['fraud']))\n",
    "print(sns.distplot(df['policy_coverage_1000']))"
   ]
  },
  {
   "cell_type": "markdown",
   "metadata": {
    "id": "nZ0jeyKM2TYc"
   },
   "source": [
    "### End of individual features' analysis - check the obtained data types"
   ]
  },
  {
   "cell_type": "code",
   "execution_count": null,
   "metadata": {
    "id": "xvSSKzjt2TYd",
    "outputId": "c0c7d793-04fb-45a8-a1b5-612833b9d7ac"
   },
   "outputs": [
    {
     "data": {
      "text/plain": [
       "claim_amount                         float64\n",
       "claim_date_registered         datetime64[ns]\n",
       "claim_date_occured            datetime64[ns]\n",
       "claim_time_occured                   float64\n",
       "claim_postal_code                      int64\n",
       "claim_cause                           object\n",
       "claim_liable                          object\n",
       "claim_num_injured                      int64\n",
       "claim_num_third_parties                int64\n",
       "claim_num_vehicles                     int64\n",
       "claim_police                          object\n",
       "claim_alcohol                         object\n",
       "claim_language                        object\n",
       "claim_vehicle_id                      object\n",
       "claim_vehicle_brand                   object\n",
       "claim_vehicle_type                    object\n",
       "claim_vehicle_date_inuse             float64\n",
       "claim_vehicle_cyl                    float64\n",
       "claim_vehicle_load                   float64\n",
       "claim_vehicle_fuel_type              float64\n",
       "claim_vehicle_power                  float64\n",
       "policy_holder_id                      object\n",
       "policy_holder_postal_code            float64\n",
       "policy_holder_form                    object\n",
       "policy_holder_year_birth             float64\n",
       "policy_holder_country                 object\n",
       "policy_holder_expert_id               object\n",
       "driver_id                             object\n",
       "driver_postal_code                   float64\n",
       "driver_form                           object\n",
       "driver_year_birth                    float64\n",
       "driver_country                        object\n",
       "driver_expert_id                      object\n",
       "driver_injured                        object\n",
       "driver_vehicle_id                     object\n",
       "third_party_1_id                      object\n",
       "third_party_1_postal_code            float64\n",
       "third_party_1_injured                 object\n",
       "third_party_1_vehicle_type            object\n",
       "third_party_1_form                    object\n",
       "third_party_1_year_birth             float64\n",
       "third_party_1_country                 object\n",
       "third_party_1_vehicle_id              object\n",
       "third_party_1_expert_id               object\n",
       "third_party_2_id                      object\n",
       "third_party_2_postal_code            float64\n",
       "third_party_2_injured                 object\n",
       "third_party_2_vehicle_type            object\n",
       "third_party_2_form                    object\n",
       "third_party_2_year_birth             float64\n",
       "third_party_2_country                 object\n",
       "third_party_2_vehicle_id              object\n",
       "third_party_2_expert_id               object\n",
       "third_party_3_id                      object\n",
       "third_party_3_postal_code            float64\n",
       "third_party_3_injured                 object\n",
       "third_party_3_vehicle_type            object\n",
       "third_party_3_form                    object\n",
       "third_party_3_year_birth             float64\n",
       "third_party_3_country                 object\n",
       "third_party_3_vehicle_id              object\n",
       "third_party_3_expert_id              float64\n",
       "repair_id                             object\n",
       "repair_postal_code                   float64\n",
       "repair_form                           object\n",
       "repair_year_birth                    float64\n",
       "repair_country                        object\n",
       "repair_sla                            object\n",
       "policy_date_start                    float64\n",
       "policy_date_next_expiry              float64\n",
       "policy_date_last_renewed             float64\n",
       "policy_num_changes                     int64\n",
       "policy_num_claims                      int64\n",
       "policy_premium_100                   float64\n",
       "policy_coverage_1000                 float64\n",
       "policy_coverage_type                  object\n",
       "fraud                                 object\n",
       "dtype: object"
      ]
     },
     "execution_count": 42,
     "metadata": {
      "tags": []
     },
     "output_type": "execute_result"
    }
   ],
   "source": [
    "df.dtypes"
   ]
  },
  {
   "cell_type": "markdown",
   "metadata": {
    "id": "nzKUGlvu2TYd"
   },
   "source": [
    "# 3. Data cleaning"
   ]
  },
  {
   "cell_type": "markdown",
   "metadata": {
    "id": "BcmPjSFm2TYd"
   },
   "source": [
    "## 3.1 The target 'fraud'"
   ]
  },
  {
   "cell_type": "code",
   "execution_count": null,
   "metadata": {
    "id": "QFmQUCbe2TYe",
    "outputId": "40c5637b-a4a9-4499-c77d-475c6f0236b2"
   },
   "outputs": [
    {
     "name": "stdout",
     "output_type": "stream",
     "text": [
      "0    33099\n",
      "1      178\n",
      "Name: fraud, dtype: int64\n",
      "\n",
      "0    0.994651\n",
      "1    0.005349\n",
      "Name: fraud, dtype: float64\n"
     ]
    }
   ],
   "source": [
    "#Separate features form the target\n",
    "target = df['fraud']\n",
    "df = df.drop(['fraud'],axis=1)\n",
    "\n",
    "#Transform the target into binary 0/1\n",
    "    # 0 = normal\n",
    "    # 1 = fraudulent\n",
    "target = pd.DataFrame(target)\n",
    "mapping = {'Y': 1,'N': 0}\n",
    "target.fraud = [mapping[i] for i in target.fraud]\n",
    "\n",
    "#Proportion of each class in the training set\n",
    "print(target['fraud'].value_counts())\n",
    "print(\"\")\n",
    "print(target['fraud'].value_counts(normalize=True))"
   ]
  },
  {
   "cell_type": "markdown",
   "metadata": {
    "id": "SQuCnw0O2TYe"
   },
   "source": [
    "# 4. Manage imbalanced data"
   ]
  },
  {
   "cell_type": "markdown",
   "metadata": {
    "id": "Mt-EL7Im2TYe"
   },
   "source": [
    "# 5. Features selection"
   ]
  },
  {
   "cell_type": "markdown",
   "metadata": {
    "id": "Xcv6J8Rl2TYf"
   },
   "source": [
    "# 6. Model construction"
   ]
  },
  {
   "cell_type": "code",
   "execution_count": null,
   "metadata": {
    "id": "5YoH93Ri2TYh"
   },
   "outputs": [],
   "source": []
  }
 ],
 "metadata": {
  "colab": {
   "collapsed_sections": [
    "3zrOY4_R2TX_",
    "f1QNfjRK2TYA",
    "U_k-Lo9v2TYC",
    "Hd9v7mHk2TYD",
    "XkEWhlsT2TYE",
    "MTrIhaAp2TYF",
    "ME73LVFF2TYG",
    "O0yjUz2c2TYH",
    "9EZr36mo2TYO",
    "l3QN-G052TYP",
    "dvOzLbDE2TYS",
    "v4MKkGFO2TYS",
    "ZZS_rFBE2TYU",
    "OKHgUqXx2TYV",
    "qfJ2aevi2TYV",
    "_LAGK5LM2TYW",
    "F29YnCz-2TYW",
    "bfW7ACeK2TYX",
    "DMKmtAX82TYY",
    "O17NBz5W2TYY",
    "s0WcNZcZ2TYZ",
    "4pP7yhX92TYa",
    "baH5hDxq2TYa",
    "OjQRJd-W2TYb",
    "nZ0jeyKM2TYc"
   ],
   "name": "V19.03.ipynb",
   "provenance": []
  },
  "kernelspec": {
   "display_name": "Python 3",
   "language": "python",
   "name": "python3"
  },
  "language_info": {
   "codemirror_mode": {
    "name": "ipython",
    "version": 3
   },
   "file_extension": ".py",
   "mimetype": "text/x-python",
   "name": "python",
   "nbconvert_exporter": "python",
   "pygments_lexer": "ipython3",
   "version": "3.9.0"
  }
 },
 "nbformat": 4,
 "nbformat_minor": 1
}
